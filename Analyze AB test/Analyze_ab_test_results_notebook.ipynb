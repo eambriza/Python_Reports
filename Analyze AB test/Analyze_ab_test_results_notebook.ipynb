{
 "cells": [
  {
   "cell_type": "markdown",
   "metadata": {},
   "source": [
    "## Analyze A/B Test Results\n",
    "\n",
    "\n",
    "## Table of Contents\n",
    "- [Introduction](#intro)\n",
    "- [Part I - Probability](#probability)\n",
    "- [Part II - A/B Test](#ab_test)\n",
    "- [Part III - Regression](#regression)\n",
    "\n",
    "\n",
    "<a id='intro'></a>\n",
    "### Introduction\n",
    "\n",
    "A/B tests are very commonly performed by data analysts and data scientists. \n",
    "\n",
    "For this project, you will be working to understand the results of an A/B test run by an e-commerce website.  The here goal is to work through this notebook to help the company understand if they should implement the new page, keep the old page, or perhaps run the experiment longer to make their decision.\n",
    "\n",
    "<a id='probability'></a>\n",
    "#### Part I - Probability\n"
   ]
  },
  {
   "cell_type": "code",
   "execution_count": 1,
   "metadata": {},
   "outputs": [],
   "source": [
    "import pandas as pd\n",
    "import numpy as np\n",
    "import random\n",
    "import matplotlib.pyplot as plt\n",
    "\n",
    "%matplotlib inline\n",
    "#We are setting the seed to assure you get the same answers on quizzes as we set up\n",
    "random.seed(42)"
   ]
  },
  {
   "cell_type": "markdown",
   "metadata": {},
   "source": [
    "`1.` Now, read in the `ab_data.csv` data. Store it in `df`.  **Use your dataframe to answer the questions in Quiz 1 of the classroom.**\n",
    "\n",
    "a. Read in the dataset and take a look at the top few rows here:"
   ]
  },
  {
   "cell_type": "code",
   "execution_count": 2,
   "metadata": {},
   "outputs": [
    {
     "data": {
      "text/html": [
       "<div>\n",
       "<style scoped>\n",
       "    .dataframe tbody tr th:only-of-type {\n",
       "        vertical-align: middle;\n",
       "    }\n",
       "\n",
       "    .dataframe tbody tr th {\n",
       "        vertical-align: top;\n",
       "    }\n",
       "\n",
       "    .dataframe thead th {\n",
       "        text-align: right;\n",
       "    }\n",
       "</style>\n",
       "<table border=\"1\" class=\"dataframe\">\n",
       "  <thead>\n",
       "    <tr style=\"text-align: right;\">\n",
       "      <th></th>\n",
       "      <th>user_id</th>\n",
       "      <th>timestamp</th>\n",
       "      <th>group</th>\n",
       "      <th>landing_page</th>\n",
       "      <th>converted</th>\n",
       "    </tr>\n",
       "  </thead>\n",
       "  <tbody>\n",
       "    <tr>\n",
       "      <th>0</th>\n",
       "      <td>851104</td>\n",
       "      <td>2017-01-21 22:11:48.556739</td>\n",
       "      <td>control</td>\n",
       "      <td>old_page</td>\n",
       "      <td>0</td>\n",
       "    </tr>\n",
       "    <tr>\n",
       "      <th>1</th>\n",
       "      <td>804228</td>\n",
       "      <td>2017-01-12 08:01:45.159739</td>\n",
       "      <td>control</td>\n",
       "      <td>old_page</td>\n",
       "      <td>0</td>\n",
       "    </tr>\n",
       "    <tr>\n",
       "      <th>2</th>\n",
       "      <td>661590</td>\n",
       "      <td>2017-01-11 16:55:06.154213</td>\n",
       "      <td>treatment</td>\n",
       "      <td>new_page</td>\n",
       "      <td>0</td>\n",
       "    </tr>\n",
       "    <tr>\n",
       "      <th>3</th>\n",
       "      <td>853541</td>\n",
       "      <td>2017-01-08 18:28:03.143765</td>\n",
       "      <td>treatment</td>\n",
       "      <td>new_page</td>\n",
       "      <td>0</td>\n",
       "    </tr>\n",
       "    <tr>\n",
       "      <th>4</th>\n",
       "      <td>864975</td>\n",
       "      <td>2017-01-21 01:52:26.210827</td>\n",
       "      <td>control</td>\n",
       "      <td>old_page</td>\n",
       "      <td>1</td>\n",
       "    </tr>\n",
       "  </tbody>\n",
       "</table>\n",
       "</div>"
      ],
      "text/plain": [
       "   user_id                   timestamp      group landing_page  converted\n",
       "0   851104  2017-01-21 22:11:48.556739    control     old_page          0\n",
       "1   804228  2017-01-12 08:01:45.159739    control     old_page          0\n",
       "2   661590  2017-01-11 16:55:06.154213  treatment     new_page          0\n",
       "3   853541  2017-01-08 18:28:03.143765  treatment     new_page          0\n",
       "4   864975  2017-01-21 01:52:26.210827    control     old_page          1"
      ]
     },
     "execution_count": 2,
     "metadata": {},
     "output_type": "execute_result"
    }
   ],
   "source": [
    "df = pd.read_csv('ab_data.csv')\n",
    "df.head()"
   ]
  },
  {
   "cell_type": "markdown",
   "metadata": {},
   "source": [
    "b. Use the below cell to find the number of rows in the dataset."
   ]
  },
  {
   "cell_type": "code",
   "execution_count": 3,
   "metadata": {},
   "outputs": [
    {
     "data": {
      "text/plain": [
       "(294478, 5)"
      ]
     },
     "execution_count": 3,
     "metadata": {},
     "output_type": "execute_result"
    }
   ],
   "source": [
    "df.shape"
   ]
  },
  {
   "cell_type": "markdown",
   "metadata": {},
   "source": [
    "c. The number of unique users in the dataset."
   ]
  },
  {
   "cell_type": "code",
   "execution_count": 4,
   "metadata": {},
   "outputs": [
    {
     "data": {
      "text/plain": [
       "290584"
      ]
     },
     "execution_count": 4,
     "metadata": {},
     "output_type": "execute_result"
    }
   ],
   "source": [
    "df.user_id.nunique()"
   ]
  },
  {
   "cell_type": "markdown",
   "metadata": {
    "collapsed": true
   },
   "source": [
    "d. The proportion of users converted."
   ]
  },
  {
   "cell_type": "code",
   "execution_count": 5,
   "metadata": {},
   "outputs": [
    {
     "data": {
      "text/plain": [
       "0.11965919355605512"
      ]
     },
     "execution_count": 5,
     "metadata": {},
     "output_type": "execute_result"
    }
   ],
   "source": [
    "conv = df[df['converted'] == 1].shape[0]/df.shape[0]\n",
    "conv"
   ]
  },
  {
   "cell_type": "markdown",
   "metadata": {
    "collapsed": true
   },
   "source": [
    "e. The number of times the `new_page` and `treatment` don't line up."
   ]
  },
  {
   "cell_type": "code",
   "execution_count": 6,
   "metadata": {},
   "outputs": [
    {
     "data": {
      "text/plain": [
       "3893"
      ]
     },
     "execution_count": 6,
     "metadata": {},
     "output_type": "execute_result"
    }
   ],
   "source": [
    "df1 = df.query(\"group == 'control' and landing_page == 'new_page'\") | df.query(\"group == 'treatment' and landing_page == 'old_page'\")\n",
    "df1.shape[0]"
   ]
  },
  {
   "cell_type": "markdown",
   "metadata": {},
   "source": [
    "f. Do any of the rows have missing values?"
   ]
  },
  {
   "cell_type": "code",
   "execution_count": 7,
   "metadata": {
    "scrolled": true
   },
   "outputs": [
    {
     "name": "stdout",
     "output_type": "stream",
     "text": [
      "<class 'pandas.core.frame.DataFrame'>\n",
      "RangeIndex: 294478 entries, 0 to 294477\n",
      "Data columns (total 5 columns):\n",
      "user_id         294478 non-null int64\n",
      "timestamp       294478 non-null object\n",
      "group           294478 non-null object\n",
      "landing_page    294478 non-null object\n",
      "converted       294478 non-null int64\n",
      "dtypes: int64(2), object(3)\n",
      "memory usage: 11.2+ MB\n"
     ]
    }
   ],
   "source": [
    "df.info()"
   ]
  },
  {
   "cell_type": "markdown",
   "metadata": {},
   "source": [
    "`2.` For the rows where **treatment** is not aligned with **new_page** or **control** is not aligned with **old_page**, we cannot be sure if this row truly received the new or old page.  Use **Quiz 2** in the classroom to provide how we should handle these rows.  \n",
    "\n",
    "a. Now use the answer to the quiz to create a new dataset that meets the specifications from the quiz.  Store your new dataframe in **df2**."
   ]
  },
  {
   "cell_type": "code",
   "execution_count": 8,
   "metadata": {},
   "outputs": [
    {
     "name": "stderr",
     "output_type": "stream",
     "text": [
      "C:\\Users\\eambriza\\AppData\\Local\\Continuum\\anaconda3\\lib\\site-packages\\pandas\\core\\frame.py:3694: SettingWithCopyWarning: \n",
      "A value is trying to be set on a copy of a slice from a DataFrame\n",
      "\n",
      "See the caveats in the documentation: http://pandas.pydata.org/pandas-docs/stable/indexing.html#indexing-view-versus-copy\n",
      "  errors=errors)\n"
     ]
    },
    {
     "data": {
      "text/plain": [
       "(290585, 5)"
      ]
     },
     "execution_count": 8,
     "metadata": {},
     "output_type": "execute_result"
    }
   ],
   "source": [
    "#Tried to delete with above functions but all were not working but the last option which is effective but followed with an error\n",
    "#df2 = df2[df1.index]\n",
    "#df2[~np.in1d(np.arange(len(df2)), df1)]\n",
    "#df2.iloc[np.setdiff1d(np.arange(len(df2)), df1)]\n",
    "#df2[np.bincount(df1, minlength=len(df2)) == 0]\n",
    "#df2 = df2[~df2.index.duplicated(keep='first')]\n",
    "\n",
    "df2 = df [:]\n",
    "df2.drop(df1.index , inplace = True )\n",
    "df2.shape"
   ]
  },
  {
   "cell_type": "code",
   "execution_count": 9,
   "metadata": {},
   "outputs": [
    {
     "data": {
      "text/plain": [
       "(290585, 5)"
      ]
     },
     "execution_count": 9,
     "metadata": {},
     "output_type": "execute_result"
    }
   ],
   "source": [
    "df2.shape"
   ]
  },
  {
   "cell_type": "code",
   "execution_count": 10,
   "metadata": {},
   "outputs": [
    {
     "data": {
      "text/plain": [
       "0"
      ]
     },
     "execution_count": 10,
     "metadata": {},
     "output_type": "execute_result"
    }
   ],
   "source": [
    "# Double Check all of the correct rows were removed - this should be 0\n",
    "df2[((df2['group'] == 'treatment') == (df2['landing_page'] == 'new_page')) == False].shape[0]"
   ]
  },
  {
   "cell_type": "markdown",
   "metadata": {},
   "source": [
    "`3.` Use **df2** and the cells below to answer questions for **Quiz3** in the classroom."
   ]
  },
  {
   "cell_type": "markdown",
   "metadata": {},
   "source": [
    "a. How many unique **user_id**s are in **df2**?"
   ]
  },
  {
   "cell_type": "code",
   "execution_count": 11,
   "metadata": {},
   "outputs": [
    {
     "data": {
      "text/plain": [
       "290584"
      ]
     },
     "execution_count": 11,
     "metadata": {},
     "output_type": "execute_result"
    }
   ],
   "source": [
    "df2.user_id.nunique()"
   ]
  },
  {
   "cell_type": "markdown",
   "metadata": {
    "collapsed": true
   },
   "source": [
    "b. There is one **user_id** repeated in **df2**.  What is it?"
   ]
  },
  {
   "cell_type": "code",
   "execution_count": 12,
   "metadata": {},
   "outputs": [
    {
     "data": {
      "text/plain": [
       "1899    773192\n",
       "2893    773192\n",
       "Name: user_id, dtype: int64"
      ]
     },
     "execution_count": 12,
     "metadata": {},
     "output_type": "execute_result"
    }
   ],
   "source": [
    "df2[df2.duplicated(['user_id'], keep=False)].user_id"
   ]
  },
  {
   "cell_type": "markdown",
   "metadata": {},
   "source": [
    "c. What is the row information for the repeat **user_id**? "
   ]
  },
  {
   "cell_type": "code",
   "execution_count": 13,
   "metadata": {},
   "outputs": [
    {
     "data": {
      "text/html": [
       "<div>\n",
       "<style scoped>\n",
       "    .dataframe tbody tr th:only-of-type {\n",
       "        vertical-align: middle;\n",
       "    }\n",
       "\n",
       "    .dataframe tbody tr th {\n",
       "        vertical-align: top;\n",
       "    }\n",
       "\n",
       "    .dataframe thead th {\n",
       "        text-align: right;\n",
       "    }\n",
       "</style>\n",
       "<table border=\"1\" class=\"dataframe\">\n",
       "  <thead>\n",
       "    <tr style=\"text-align: right;\">\n",
       "      <th></th>\n",
       "      <th>user_id</th>\n",
       "      <th>timestamp</th>\n",
       "      <th>group</th>\n",
       "      <th>landing_page</th>\n",
       "      <th>converted</th>\n",
       "    </tr>\n",
       "  </thead>\n",
       "  <tbody>\n",
       "    <tr>\n",
       "      <th>1899</th>\n",
       "      <td>773192</td>\n",
       "      <td>2017-01-09 05:37:58.781806</td>\n",
       "      <td>treatment</td>\n",
       "      <td>new_page</td>\n",
       "      <td>0</td>\n",
       "    </tr>\n",
       "    <tr>\n",
       "      <th>2893</th>\n",
       "      <td>773192</td>\n",
       "      <td>2017-01-14 02:55:59.590927</td>\n",
       "      <td>treatment</td>\n",
       "      <td>new_page</td>\n",
       "      <td>0</td>\n",
       "    </tr>\n",
       "  </tbody>\n",
       "</table>\n",
       "</div>"
      ],
      "text/plain": [
       "      user_id                   timestamp      group landing_page  converted\n",
       "1899   773192  2017-01-09 05:37:58.781806  treatment     new_page          0\n",
       "2893   773192  2017-01-14 02:55:59.590927  treatment     new_page          0"
      ]
     },
     "execution_count": 13,
     "metadata": {},
     "output_type": "execute_result"
    }
   ],
   "source": [
    "df2[df2.duplicated(['user_id'], keep=False)]"
   ]
  },
  {
   "cell_type": "markdown",
   "metadata": {},
   "source": [
    "d. Remove **one** of the rows with a duplicate **user_id**, but keep your dataframe as **df2**."
   ]
  },
  {
   "cell_type": "code",
   "execution_count": 14,
   "metadata": {},
   "outputs": [
    {
     "name": "stderr",
     "output_type": "stream",
     "text": [
      "C:\\Users\\eambriza\\AppData\\Local\\Continuum\\anaconda3\\lib\\site-packages\\pandas\\core\\frame.py:3694: SettingWithCopyWarning: \n",
      "A value is trying to be set on a copy of a slice from a DataFrame\n",
      "\n",
      "See the caveats in the documentation: http://pandas.pydata.org/pandas-docs/stable/indexing.html#indexing-view-versus-copy\n",
      "  errors=errors)\n"
     ]
    },
    {
     "data": {
      "text/plain": [
       "(290584, 5)"
      ]
     },
     "execution_count": 14,
     "metadata": {},
     "output_type": "execute_result"
    }
   ],
   "source": [
    "df2.drop(df2.index[2893], inplace = True )\n",
    "df2.shape"
   ]
  },
  {
   "cell_type": "markdown",
   "metadata": {},
   "source": [
    "`4.` Use **df2** in the below cells to answer the quiz questions related to **Quiz 4** in the classroom.\n",
    "\n",
    "a. What is the probability of an individual converting regardless of the page they receive?"
   ]
  },
  {
   "cell_type": "code",
   "execution_count": 15,
   "metadata": {},
   "outputs": [
    {
     "data": {
      "text/plain": [
       "0.11959708724499628"
      ]
     },
     "execution_count": 15,
     "metadata": {},
     "output_type": "execute_result"
    }
   ],
   "source": [
    "df2[df2['converted'] == 1].shape[0]/df2.shape[0]"
   ]
  },
  {
   "cell_type": "markdown",
   "metadata": {},
   "source": [
    "b. Given that an individual was in the `control` group, what is the probability they converted?"
   ]
  },
  {
   "cell_type": "code",
   "execution_count": 16,
   "metadata": {},
   "outputs": [
    {
     "name": "stderr",
     "output_type": "stream",
     "text": [
      "C:\\Users\\eambriza\\AppData\\Local\\Continuum\\anaconda3\\lib\\site-packages\\ipykernel_launcher.py:1: SettingWithCopyWarning: \n",
      "A value is trying to be set on a copy of a slice from a DataFrame.\n",
      "Try using .loc[row_indexer,col_indexer] = value instead\n",
      "\n",
      "See the caveats in the documentation: http://pandas.pydata.org/pandas-docs/stable/indexing.html#indexing-view-versus-copy\n",
      "  \"\"\"Entry point for launching an IPython kernel.\n"
     ]
    }
   ],
   "source": [
    "df2['convert_bool'] = df2['converted'].astype('bool')"
   ]
  },
  {
   "cell_type": "code",
   "execution_count": 17,
   "metadata": {},
   "outputs": [
    {
     "data": {
      "text/plain": [
       "0.1203863045004612"
      ]
     },
     "execution_count": 17,
     "metadata": {},
     "output_type": "execute_result"
    }
   ],
   "source": [
    "df2.query('group == \"control\"')['convert_bool'].mean()"
   ]
  },
  {
   "cell_type": "markdown",
   "metadata": {},
   "source": [
    "c. Given that an individual was in the `treatment` group, what is the probability they converted?"
   ]
  },
  {
   "cell_type": "code",
   "execution_count": 18,
   "metadata": {},
   "outputs": [
    {
     "data": {
      "text/plain": [
       "0.11880806551510564"
      ]
     },
     "execution_count": 18,
     "metadata": {},
     "output_type": "execute_result"
    }
   ],
   "source": [
    "df2.query('group == \"treatment\"')['convert_bool'].mean()"
   ]
  },
  {
   "cell_type": "markdown",
   "metadata": {},
   "source": [
    "d. What is the probability that an individual received the new page?"
   ]
  },
  {
   "cell_type": "code",
   "execution_count": 19,
   "metadata": {},
   "outputs": [
    {
     "data": {
      "text/plain": [
       "0.5000619442226688"
      ]
     },
     "execution_count": 19,
     "metadata": {},
     "output_type": "execute_result"
    }
   ],
   "source": [
    "df2[df2['landing_page'] == 'new_page'].shape[0]/df2.shape[0]"
   ]
  },
  {
   "cell_type": "markdown",
   "metadata": {},
   "source": [
    "e. Consider your results from a. through d. above, and explain below whether you think there is sufficient evidence to say that the new treatment page leads to more conversions."
   ]
  },
  {
   "cell_type": "markdown",
   "metadata": {},
   "source": [
    "**The probability of an individual to received new page is 50% that comfort more us to check directly the probability of an individual that was given in the treatment or control group, Which their probabilities is 11% and 12% respectivectly. The diference between them is too small making the this pre anaylysis insignificant to conclude if treatment/new_page page leads to more conversions.**"
   ]
  },
  {
   "cell_type": "markdown",
   "metadata": {},
   "source": [
    "<a id='ab_test'></a>\n",
    "### Part II - A/B Test\n",
    "\n",
    "Notice that because of the time stamp associated with each event, you could technically run a hypothesis test continuously as each observation was observed.  \n",
    "\n",
    "However, then the hard question is do you stop as soon as one page is considered significantly better than another or does it need to happen consistently for a certain amount of time?  How long do you run to render a decision that neither page is better than another?  \n",
    "\n",
    "These questions are the difficult parts associated with A/B tests in general.  \n",
    "\n",
    "\n",
    "`1.` For now, consider you need to make the decision just based on all the data provided.  If you want to assume that the old page is better unless the new page proves to be definitely better at a Type I error rate of 5%, what should your null and alternative hypotheses be?  You can state your hypothesis in terms of words or in terms of **$p_{old}$** and **$p_{new}$**, which are the converted rates for the old and new pages."
   ]
  },
  {
   "cell_type": "markdown",
   "metadata": {},
   "source": [
    "$$H_0: P_{new} - P_{old} <= 0$$\n",
    "\n",
    "\n",
    "$$H_1: P_{new} - P_{old} > 0$$"
   ]
  },
  {
   "cell_type": "markdown",
   "metadata": {},
   "source": [
    "`2.` Assume under the null hypothesis, $p_{new}$ and $p_{old}$ both have \"true\" success rates equal to the **converted** success rate regardless of page - that is $p_{new}$ and $p_{old}$ are equal. Furthermore, assume they are equal to the **converted** rate in **ab_data.csv** regardless of the page. <br><br>\n",
    "\n",
    "Use a sample size for each page equal to the ones in **ab_data.csv**.  <br><br>\n",
    "\n",
    "Perform the sampling distribution for the difference in **converted** between the two pages over 10,000 iterations of calculating an estimate from the null.  <br><br>\n",
    "\n",
    "Use the cells below to provide the necessary parts of this simulation.  If this doesn't make complete sense right now, don't worry - you are going to work through the problems below to complete this problem.  You can use **Quiz 5** in the classroom to make sure you are on the right track.<br><br>"
   ]
  },
  {
   "cell_type": "code",
   "execution_count": 20,
   "metadata": {},
   "outputs": [
    {
     "data": {
      "text/plain": [
       "'# Perform the sampling distribution for the difference in converted\\npages, c_pages = [],[]\\nfor _ in range(1000):\\n    samp = df2.sample(100, replace = True) # unfortunatetly when i insert this df2.shape[0] my computer break in the middle with a memory error \\n    c_page = samp.query(\\'landing_page == \"old_page\" or landing_page == \"new_page\" \\')[\\'convert_bool\\'].mean()\\n    pages.append(samp)\\n    c_pages.append(c_page)'"
      ]
     },
     "execution_count": 20,
     "metadata": {},
     "output_type": "execute_result"
    }
   ],
   "source": [
    "# Code changed - This code was in the first version \n",
    "\"\"\"# Perform the sampling distribution for the difference in converted\n",
    "pages, c_pages = [],[]\n",
    "for _ in range(1000):\n",
    "    samp = df2.sample(100, replace = True) # unfortunatetly when i insert this df2.shape[0] my computer break in the middle with a memory error \n",
    "    c_page = samp.query('landing_page == \"old_page\" or landing_page == \"new_page\" ')['convert_bool'].mean()\n",
    "    pages.append(samp)\n",
    "    c_pages.append(c_page)\"\"\""
   ]
  },
  {
   "cell_type": "markdown",
   "metadata": {},
   "source": [
    "a. What is the **convert rate** for $p_{new}$ under the null? "
   ]
  },
  {
   "cell_type": "code",
   "execution_count": 21,
   "metadata": {},
   "outputs": [
    {
     "data": {
      "text/plain": [
       "0.1196"
      ]
     },
     "execution_count": 21,
     "metadata": {},
     "output_type": "execute_result"
    }
   ],
   "source": [
    "# Code changed  \n",
    "p_new = df2[df2['converted'] == 1].shape[0]/df2.shape[0]\n",
    "#p_new = df2.query('landing_page == \"new_page\" ')['convert_bool'].mean()\n",
    "#p_new= sum(c_pages)/len(pages)\n",
    "round(p_new,4)"
   ]
  },
  {
   "cell_type": "markdown",
   "metadata": {},
   "source": [
    "b. What is the **convert rate** for $p_{old}$ under the null? <br><br>"
   ]
  },
  {
   "cell_type": "code",
   "execution_count": 22,
   "metadata": {},
   "outputs": [
    {
     "data": {
      "text/plain": [
       "0.1196"
      ]
     },
     "execution_count": 22,
     "metadata": {},
     "output_type": "execute_result"
    }
   ],
   "source": [
    "p_old = p_new\n",
    "round(p_old,4) "
   ]
  },
  {
   "cell_type": "markdown",
   "metadata": {},
   "source": [
    "c. What is $n_{new}$?"
   ]
  },
  {
   "cell_type": "code",
   "execution_count": 23,
   "metadata": {},
   "outputs": [
    {
     "data": {
      "text/plain": [
       "145310"
      ]
     },
     "execution_count": 23,
     "metadata": {},
     "output_type": "execute_result"
    }
   ],
   "source": [
    "n_new = df2.query('landing_page == \"new_page\"').shape[0]\n",
    "n_new"
   ]
  },
  {
   "cell_type": "markdown",
   "metadata": {},
   "source": [
    "d. What is $n_{old}$?"
   ]
  },
  {
   "cell_type": "code",
   "execution_count": 24,
   "metadata": {},
   "outputs": [
    {
     "data": {
      "text/plain": [
       "145274"
      ]
     },
     "execution_count": 24,
     "metadata": {},
     "output_type": "execute_result"
    }
   ],
   "source": [
    "n_old = df2.query('landing_page == \"old_page\"').shape[0]\n",
    "n_old"
   ]
  },
  {
   "cell_type": "markdown",
   "metadata": {},
   "source": [
    "e. Simulate $n_{new}$ transactions with a convert rate of $p_{new}$ under the null.  Store these $n_{new}$ 1's and 0's in **new_page_converted**."
   ]
  },
  {
   "cell_type": "code",
   "execution_count": 25,
   "metadata": {},
   "outputs": [],
   "source": [
    "new_page_converted = np.random.choice([0, 1], n_new , p=[p_new,1-p_new])"
   ]
  },
  {
   "cell_type": "markdown",
   "metadata": {},
   "source": [
    "f. Simulate $n_{old}$ transactions with a convert rate of $p_{old}$ under the null.  Store these $n_{old}$ 1's and 0's in **old_page_converted**."
   ]
  },
  {
   "cell_type": "code",
   "execution_count": 26,
   "metadata": {},
   "outputs": [],
   "source": [
    "old_page_converted = np.random.choice([0, 1], n_old , p=[p_old,1-p_old])"
   ]
  },
  {
   "cell_type": "markdown",
   "metadata": {},
   "source": [
    "g. Find $p_{new}$ - $p_{old}$ for your simulated values from part (e) and (f)."
   ]
  },
  {
   "cell_type": "code",
   "execution_count": 27,
   "metadata": {},
   "outputs": [
    {
     "data": {
      "text/plain": [
       "0.001970599299340181"
      ]
     },
     "execution_count": 27,
     "metadata": {},
     "output_type": "execute_result"
    }
   ],
   "source": [
    "p_new= sum(new_page_converted)/len(new_page_converted)\n",
    "p_old= sum(old_page_converted)/len(old_page_converted)\n",
    "p_new - p_old"
   ]
  },
  {
   "cell_type": "markdown",
   "metadata": {},
   "source": [
    "h. Simulate 10,000 $p_{new}$ - $p_{old}$ values using this same process similarly to the one you calculated in parts **a. through g.** above.  Store all 10,000 values in a numpy array called **p_diffs**."
   ]
  },
  {
   "cell_type": "code",
   "execution_count": 28,
   "metadata": {},
   "outputs": [
    {
     "data": {
      "text/plain": [
       "[-0.0017681063763606841,\n",
       " -0.0006127310913686262,\n",
       " -0.002893929206698967,\n",
       " -0.0026207380886322656,\n",
       " -0.001507550634795199,\n",
       " -0.0010920065662645279,\n",
       " -0.0017129581340821626,\n",
       " -0.001198282985514748,\n",
       " -0.0012467923735820646,\n",
       " -0.0023893631500413043,\n",
       " -0.00099275351892196,\n",
       " -0.0020056988171593265,\n",
       " -0.0007877380359917197,\n",
       " -0.002843909119043378,\n",
       " -0.00226225479950988,\n",
       " -0.001762281202280419,\n",
       " -0.0035751040506199205,\n",
       " -0.0003341347449705989,\n",
       " -0.0014139122257451758,\n",
       " -0.0038661546263400876,\n",
       " -0.0011152464377763294,\n",
       " -0.0017066415028555576,\n",
       " -0.0025013259422225903,\n",
       " -0.000596011634304755,\n",
       " -0.0017880646191591881,\n",
       " -0.0006987121442728894,\n",
       " -0.0020065324474459606,\n",
       " 0.0003258984493661049,\n",
       " -0.0022318314390620264,\n",
       " -0.0013515076815850263,\n",
       " -0.0021942557344448582,\n",
       " -0.004184977641890603,\n",
       " -0.0013530433930335484,\n",
       " -0.001289124286325244,\n",
       " -0.0018137162558241743,\n",
       " -0.0024442045122790856,\n",
       " -0.0030503769567382794,\n",
       " -0.0015033683122665786,\n",
       " -0.002417661506850896,\n",
       " -0.0010246814272287658,\n",
       " -0.002712231430547496,\n",
       " -0.0006538556837265702,\n",
       " -0.0030149921495022936,\n",
       " -0.00039721183442700814,\n",
       " -0.0034981966397009956,\n",
       " -0.0025714772649099715,\n",
       " -0.0011892006559917762,\n",
       " -0.0009580383649574059,\n",
       " -0.0015498888004044503,\n",
       " -0.0026711553588338877,\n",
       " -0.0001925775899970783,\n",
       " -0.0018901508741776818,\n",
       " 8.510493667965302e-05,\n",
       " 1.1684162883301985e-05,\n",
       " -0.002100580479492742,\n",
       " -0.0015984279787694122,\n",
       " -0.002782839198597148,\n",
       " -0.002192264723435075,\n",
       " -0.0023098516583957424,\n",
       " -0.0004214026974644347,\n",
       " -0.0010560761694511783,\n",
       " -0.0024792077053129857,\n",
       " -0.0020607484342919646,\n",
       " -0.0011373211625231444,\n",
       " -0.0013851073655770235,\n",
       " -0.0009022221780925904,\n",
       " -0.0005848441528896325,\n",
       " -0.0015839883100879637,\n",
       " -0.0011315444608014091,\n",
       " -0.0008229062104158913,\n",
       " -0.0023295035380066914,\n",
       " -0.0014269866557418132,\n",
       " -0.002616741605407577,\n",
       " -0.0033225170096533585,\n",
       " -0.0013680719051323842,\n",
       " -0.0007955280606442572,\n",
       " -0.0005813843901006227,\n",
       " -0.0017120756533943043,\n",
       " -0.0014406217825440326,\n",
       " -0.0019696842990634122,\n",
       " -0.002300641055898181,\n",
       " -0.0013553308111437373,\n",
       " -0.0003377982822973802,\n",
       " -0.0008590672628121659,\n",
       " -0.0024294379219855916,\n",
       " -0.0014437154378697664,\n",
       " -0.002550392357505024,\n",
       " -0.0026866224194187494,\n",
       " -0.001820429892922873,\n",
       " -0.003134676180167134,\n",
       " -0.0026151443926017703,\n",
       " -0.00013452006751607515,\n",
       " -0.00019133904402883484,\n",
       " -0.0028200323890626433,\n",
       " -0.0014180637005169056,\n",
       " -0.0009020154122921786,\n",
       " -0.0020719434236838585,\n",
       " -0.0013864508138403536,\n",
       " -0.0028509953767169305,\n",
       " 0.000331614955547746,\n",
       " -0.0030149789111777597,\n",
       " -0.0027616123535720988,\n",
       " -0.0008252097984797618,\n",
       " -0.00010108055610701105,\n",
       " -0.00065782791418241,\n",
       " -0.000695251717178838,\n",
       " -0.0004290706654917209,\n",
       " -0.0017844346097977831,\n",
       " -0.0004392470211749544,\n",
       " -0.00031817996772291746,\n",
       " -0.000579986995953144,\n",
       " -0.0012539071211096764,\n",
       " -0.002250585184754822,\n",
       " -0.002687806287948291,\n",
       " -0.0020805100108925723,\n",
       " -0.003425505958084482,\n",
       " -0.002725604145297017,\n",
       " -0.002009101458851331,\n",
       " -0.0010067069989789512,\n",
       " -0.0012299936355488622,\n",
       " -0.0019026559474156352,\n",
       " -0.0031886909152477327,\n",
       " -0.0028466985933676553,\n",
       " -0.0011608868222537788,\n",
       " -0.001220038295341605,\n",
       " -0.0026666622503846438,\n",
       " -0.00037852042340297265,\n",
       " -0.0012183946568607579,\n",
       " 0.0006502716010239051,\n",
       " -0.0023416929904945954,\n",
       " -0.001832226577319629,\n",
       " -0.0008600302424959794,\n",
       " -0.0024885784027281893,\n",
       " -0.0011692181715607375,\n",
       " -0.001131274613501182,\n",
       " -0.0019591406707007014,\n",
       " -0.0005013241478750152,\n",
       " -0.0015749994111622229,\n",
       " -0.0022765740336689044,\n",
       " -7.582982818923889e-05,\n",
       " -0.0016486694133578395,\n",
       " -0.001468262472433507,\n",
       " -0.001176838262575558,\n",
       " -0.0006918927680753806,\n",
       " -0.0029003222011222962,\n",
       " -0.0017462436249151836,\n",
       " -0.00011210036822147107,\n",
       " -0.002112229743673477,\n",
       " -0.0012860935930641693,\n",
       " -0.0003388913571928248,\n",
       " -2.616208467810799e-05,\n",
       " -0.001808511221773182,\n",
       " -0.0021404709554905255,\n",
       " -0.0012312913982301527,\n",
       " -0.0012090681823984928,\n",
       " -0.0032174649265253874,\n",
       " -0.002743244042522186,\n",
       " -0.0014087271569736826,\n",
       " -0.0023975919166498577,\n",
       " -0.0016556799106584585,\n",
       " -0.0019206019358193188,\n",
       " -0.0018246855311018356,\n",
       " -0.00020646674473445703,\n",
       " -0.0008652090253945116,\n",
       " -0.0003672716639522705,\n",
       " -0.0009346112483315655,\n",
       " -0.0018964768099898055,\n",
       " 8.616570487555986e-05,\n",
       " -0.0033571219633720534,\n",
       " -0.0016782741742901869,\n",
       " -0.001946321488537836,\n",
       " -0.0016365921634489966,\n",
       " -0.00048365571083944237,\n",
       " 3.8539289332159554e-05,\n",
       " -0.0018153433993039758,\n",
       " -0.002940176554207377,\n",
       " -0.0024166653387650283,\n",
       " -0.0018655088426160205,\n",
       " -0.00045575566256414457,\n",
       " -0.0016890773787655577,\n",
       " -0.0020972222407181496,\n",
       " -0.0034235068023184684,\n",
       " -0.0015291298685328053,\n",
       " -0.00244471068154678,\n",
       " -0.0011394792854567404,\n",
       " 0.00033138731978789304,\n",
       " -0.0030997783824235625,\n",
       " -0.0013509631599722544,\n",
       " -0.0006576066374681527,\n",
       " -0.001630558025808873,\n",
       " -0.0014332170458776633,\n",
       " -0.0030974988744132126,\n",
       " -0.0025051991205660706,\n",
       " -0.003603199592580514,\n",
       " 0.0014053646618402554,\n",
       " -0.001915703826166057,\n",
       " -0.0032556406691792716,\n",
       " -0.00014146531602234058,\n",
       " -0.003032029308963874,\n",
       " -0.0019319284952454274,\n",
       " -0.004451041291001434,\n",
       " -0.002501469399153619,\n",
       " -0.0019048565759311187,\n",
       " 0.0006905534819473674,\n",
       " -0.0029476926506663143,\n",
       " -0.001857628299069658,\n",
       " -0.0015837530159464042,\n",
       " -0.0028295535115884785,\n",
       " -0.0005346527166892601,\n",
       " -0.0016104423011396585,\n",
       " -0.0012441043258416828,\n",
       " -0.0027325046074141296,\n",
       " -0.0015194130539139955,\n",
       " -0.0018988605839641015,\n",
       " -0.0009362642404350252,\n",
       " -0.0007807268233721576,\n",
       " -0.0024235022755285524,\n",
       " -0.0017391808997994501,\n",
       " -0.0024362852835939225,\n",
       " -0.0005783855953112593,\n",
       " -0.002808914938470769,\n",
       " -0.0024800092390810935,\n",
       " -0.0017757669660890818,\n",
       " -0.00020562301988193143,\n",
       " 0.0002634098156816672,\n",
       " -0.0012724831318166735,\n",
       " -0.001089748029736104,\n",
       " -0.0037775243812415704,\n",
       " -0.002226730677876876,\n",
       " -0.0037921274436345798,\n",
       " -0.004750329957860011,\n",
       " -0.002199114671772723,\n",
       " -0.0037878513456276602,\n",
       " -0.0019679283848774848,\n",
       " -0.002432000400558909,\n",
       " -0.0027883336709803586,\n",
       " -0.002766398015079663,\n",
       " -0.0017512744395877938,\n",
       " -0.0032677961993055338,\n",
       " -0.00016716743597168515,\n",
       " -0.001998557044603791,\n",
       " -0.0009737922883746031,\n",
       " -0.004680939045282939,\n",
       " -0.0034481144517754247,\n",
       " -0.0011554560126197932,\n",
       " -0.0012143484521537629,\n",
       " -0.001528074510677227,\n",
       " -0.003914938701055193,\n",
       " -0.001779692520002485,\n",
       " -0.0030394527419258244,\n",
       " -0.0018581404865202489,\n",
       " -0.0008351807751137003,\n",
       " -0.0030147459623346,\n",
       " -0.0015849884862224883,\n",
       " -0.0014471321516484337,\n",
       " -0.0005029217309836936,\n",
       " -0.0005268434901164604,\n",
       " -6.787610281361323e-05,\n",
       " -0.0028770046885616962,\n",
       " -0.0018761189563993447,\n",
       " -0.0008275969126596144,\n",
       " -0.003993012795727308,\n",
       " -0.0012613843175488249,\n",
       " -0.0019640196488923956,\n",
       " -0.0020108889815445147,\n",
       " -0.0025279100450299186,\n",
       " -0.0014686394220166238,\n",
       " -0.0017080734601755132,\n",
       " -0.002948973562900914,\n",
       " -0.0019014294564029116,\n",
       " -0.0015399542937448163,\n",
       " -0.003041940732542839,\n",
       " -0.0005496925513761158,\n",
       " -0.0022315540548222407,\n",
       " -0.0009971859192810517,\n",
       " 0.0002346522986651084,\n",
       " -0.0021571229588103757,\n",
       " -0.0011380731518981918,\n",
       " -0.002024600950141453,\n",
       " -0.0023638329355041288,\n",
       " -0.003035925080865323,\n",
       " -0.001484869173855402,\n",
       " -0.0004608324102951117,\n",
       " -0.002328981474594677,\n",
       " -0.0007479423160682425,\n",
       " -0.0013736986484776392,\n",
       " -0.0012521632187942194,\n",
       " 0.00034244474905671674,\n",
       " -0.0020262501106807634,\n",
       " -0.0013307452203248499,\n",
       " -0.0017044693643328973,\n",
       " -0.000521106869008664,\n",
       " -0.0024672960322903864,\n",
       " -0.0003724276681437849,\n",
       " 0.0012110874177493902,\n",
       " -0.0017424037965908246,\n",
       " -0.0015323541830782744,\n",
       " -0.0010987725957785632,\n",
       " -0.003138227972555724,\n",
       " -3.425990583384719e-05,\n",
       " -0.001367746820647997,\n",
       " -0.0012030467744929413,\n",
       " -0.0006450985138560517,\n",
       " -0.002861980998638783,\n",
       " -0.0023400076700604566,\n",
       " 0.0013780428246081416,\n",
       " -0.0020942904247592126,\n",
       " -0.0012165313350638168,\n",
       " -0.0005241317759091813,\n",
       " -0.0008826271523093288,\n",
       " 0.00017356418890454584,\n",
       " -0.003105313924464892,\n",
       " -0.00019123697487832825,\n",
       " -0.0009216064610704511,\n",
       " -0.003187256017175011,\n",
       " 0.0006105713409059049,\n",
       " -0.0011470768038477908,\n",
       " -0.001028681326646505,\n",
       " -0.0015256301260759692,\n",
       " -0.002979528309674767,\n",
       " 0.00030998737607181026,\n",
       " -0.0015768852913527198,\n",
       " -4.1390614283126625e-05,\n",
       " -0.0021026441871296736,\n",
       " -0.0016178932538583601,\n",
       " -0.0007734196798457049,\n",
       " -0.0030516731384273715,\n",
       " -0.0031623540687700236,\n",
       " -0.002496059737938386,\n",
       " -0.002064416306700928,\n",
       " -0.001751315718136623,\n",
       " -0.002354881584362048,\n",
       " -0.001725182302304118,\n",
       " -0.003074634758651648,\n",
       " -0.0032753357741540923,\n",
       " -0.003611587394441007,\n",
       " -0.0020936631969042663,\n",
       " 1.6904999494263273e-05,\n",
       " -0.0009734550353062005,\n",
       " -0.002621966382720553,\n",
       " -0.002112783903803414,\n",
       " -0.0015857126379633796,\n",
       " -0.0015138743998514281,\n",
       " -0.002072089783885969,\n",
       " -0.0034789407790126597,\n",
       " 0.0010732633259697422,\n",
       " -0.004216690777409576,\n",
       " -0.0016749760168473515,\n",
       " -0.00013049556828188813,\n",
       " -0.002074881211232879,\n",
       " -0.001648566232236498,\n",
       " -0.00256327771073106,\n",
       " -0.0014292501078439768,\n",
       " 0.000705591060071814,\n",
       " -0.0018955014073016446,\n",
       " -0.0010950152074444691,\n",
       " 0.0010817017108330912,\n",
       " -0.003060249811171506,\n",
       " 0.00042314173930221854,\n",
       " -4.9963855761517295e-05,\n",
       " -0.0019880275834498334,\n",
       " -0.0007019998853343146,\n",
       " -0.0020039212264377493,\n",
       " -0.0018867279536503995,\n",
       " -0.0005734329591489395,\n",
       " -0.0004911112111560534,\n",
       " -0.0032456944013284084,\n",
       " -4.617302418727376e-05,\n",
       " -0.003385497922088171,\n",
       " -0.0035954585070199496,\n",
       " -0.0005689949507932945,\n",
       " -0.0021229217476330803,\n",
       " -0.003220079321449215,\n",
       " -0.0012843585278558972,\n",
       " 0.0007739297224344521,\n",
       " -0.00342927365711794,\n",
       " -0.001197012853345794,\n",
       " -0.002271728550841151,\n",
       " -0.00013681153275506286,\n",
       " -0.001202018204755545,\n",
       " -0.00176494307717745,\n",
       " -0.0027320212896040502,\n",
       " 0.0001951008908935431,\n",
       " -0.0027105857433286362,\n",
       " -0.0040010874258076395,\n",
       " -0.0017337608800724463,\n",
       " -0.0018495363746781068,\n",
       " -0.0017492811824765114,\n",
       " -0.001664095568013585,\n",
       " -0.0023372519809004982,\n",
       " 0.00030901209834728605,\n",
       " -0.0019136898741129865,\n",
       " -0.0030467919566474905,\n",
       " -0.0022695996335020535,\n",
       " -0.00226524525961902,\n",
       " 0.00022588197516780484,\n",
       " -0.0031229383746120137,\n",
       " -0.00013437478493275035,\n",
       " 0.0007242091454641997,\n",
       " -0.0016548220909977096,\n",
       " -0.0014620648627139687,\n",
       " -0.0010558266595371985,\n",
       " -0.0021702016166552235,\n",
       " -0.002048181551098399,\n",
       " -0.0007862599710312251,\n",
       " -0.0030630459075541155,\n",
       " -0.0022547114054593392,\n",
       " -0.0017388015873053136,\n",
       " -0.0008078413788268346,\n",
       " -0.0020550450660537095,\n",
       " -0.0015695134545567618,\n",
       " -0.0005458559186468509,\n",
       " -0.004003222409868848,\n",
       " -0.0023770818783798997,\n",
       " -0.0012442231131553627,\n",
       " -0.000659445070188891,\n",
       " -0.0031929469305513603,\n",
       " -3.162544979902482e-05,\n",
       " -0.0023253052695505344,\n",
       " -0.0018221144075416668,\n",
       " 5.404450771555325e-05,\n",
       " -0.0014100318524585126,\n",
       " -0.0022386884852252653,\n",
       " -0.001297119396625579,\n",
       " -0.0023348962903979864,\n",
       " -0.0010439409587095771,\n",
       " -0.001265867630293016,\n",
       " -0.00042886733750553685,\n",
       " -0.0005972414284010907,\n",
       " -0.002171626613941033,\n",
       " -0.00260921304824982,\n",
       " -0.002830064969054996,\n",
       " -0.0007420445203684956,\n",
       " -0.0013945843575708383,\n",
       " -0.0019337209418801987,\n",
       " -0.001964985859889315,\n",
       " -0.003128349365604466,\n",
       " -0.0019360594947670784,\n",
       " -0.0033022122794228864,\n",
       " 0.0001006067390335319,\n",
       " -0.0005093308414168829,\n",
       " -0.0024368697242843074,\n",
       " -0.0028413540209198257,\n",
       " -0.002271389073105992,\n",
       " 0.00011463491361095313,\n",
       " -0.0008124362065251578,\n",
       " -0.004009833997890858,\n",
       " -0.0024411390649194398,\n",
       " 1.1937765024866431e-05,\n",
       " -0.0017077405780188681,\n",
       " -0.0004449773806751711,\n",
       " -0.002734374129827341,\n",
       " 0.0005568524625222532,\n",
       " -0.0014205792843491882,\n",
       " -0.0016189435317540968,\n",
       " -0.0007145300980110902,\n",
       " -0.0029216978443115937,\n",
       " -0.001133537632802939,\n",
       " -0.0007937433326937332,\n",
       " 0.0017307087523472098,\n",
       " -0.0003189178992368952,\n",
       " -0.0005460786697015774,\n",
       " -0.0007280751876241609,\n",
       " 0.0027231632245823117,\n",
       " -0.0010827629028871688,\n",
       " -0.0015441505264749411,\n",
       " -0.0019534812864447776,\n",
       " -0.00277588463618976,\n",
       " -0.0008091683671566513,\n",
       " -0.0028615075815835583,\n",
       " -0.002794794779525156,\n",
       " -0.0007465221468849897,\n",
       " -0.002353684339755621,\n",
       " -0.0033983931239111864,\n",
       " -0.003939082845647868,\n",
       " -0.00143636171051785,\n",
       " -0.0002543438677664045,\n",
       " -0.0026743084629739095,\n",
       " -0.00034538188884129795,\n",
       " -0.0013972569187871986,\n",
       " -0.0005613539619064301,\n",
       " -0.00045774857956755455,\n",
       " -0.0018940214420827967,\n",
       " -0.003609837410193245,\n",
       " -0.0017862167222530007,\n",
       " -0.0015472774511908344,\n",
       " -0.0019270896050088415,\n",
       " -0.00046784350838854905,\n",
       " -0.0009749977544572658,\n",
       " -0.0013385982316832523,\n",
       " -0.00320401364749108,\n",
       " -0.0021021046161889823,\n",
       " -0.0035585127307677794,\n",
       " -0.0017780374204394156,\n",
       " -0.0013961077344647327,\n",
       " -0.00039337774188896724,\n",
       " -0.0018790558333395685,\n",
       " -0.002833088074499668,\n",
       " -0.0007453283876048128,\n",
       " -0.0014191191606655468,\n",
       " -0.0012978730435598412,\n",
       " -0.00126566510237143,\n",
       " -0.0025492765286128233,\n",
       " -0.0012852688915939436,\n",
       " -0.0024162146501502807,\n",
       " -0.003718264431878615,\n",
       " -0.003218887501186818,\n",
       " 0.002631881242835782,\n",
       " -0.0005441556047192098,\n",
       " -0.003942991521222558,\n",
       " -0.001787626139411802,\n",
       " -0.0024818873427206734,\n",
       " 0.0003587756693786692,\n",
       " -0.0004473800418586804,\n",
       " -0.002815635896213156,\n",
       " -0.0014070316308813086,\n",
       " -0.0015628540740615648,\n",
       " -0.002278222078934161,\n",
       " -0.0009576960099351439,\n",
       " -0.002532409246524203,\n",
       " 0.0020067711142000566,\n",
       " -0.0021208038286714553,\n",
       " -0.002558895356128202,\n",
       " -0.0008744105249800654,\n",
       " -0.0016019890988308583,\n",
       " -0.0008203585503664401,\n",
       " -0.0013209013223920568,\n",
       " -0.0017215156440402168,\n",
       " -0.0008372099730539068,\n",
       " -0.0004712537837155001,\n",
       " -0.0016926092694361378,\n",
       " -0.0020027517011330515,\n",
       " -0.0035878105834922375,\n",
       " -0.0019607834865829343,\n",
       " -0.001763821093965584,\n",
       " -0.0021298696430805952,\n",
       " -6.080349341189284e-05,\n",
       " -0.0024208492361431494,\n",
       " -0.0026913617604540085,\n",
       " 0.00039800933578464093,\n",
       " -0.0027059659571528616,\n",
       " -0.001854538987798443,\n",
       " -0.0025260444679591487,\n",
       " -0.0008553822444034298,\n",
       " -0.0027487185907716233,\n",
       " -0.003878354097277742,\n",
       " -0.002190565672376299,\n",
       " 0.00021118577173508124,\n",
       " -0.0018831668626607817,\n",
       " -0.0002240206112173182,\n",
       " -0.0027754711697380863,\n",
       " -0.002753384614019541,\n",
       " -0.0027209057918125418,\n",
       " -0.001244046846269442,\n",
       " -0.0014318539953420972,\n",
       " -0.0016510471060297988,\n",
       " -0.0019412492048369034,\n",
       " 0.00022740215901285998,\n",
       " -0.00017035998600745117,\n",
       " -0.00428916685501414,\n",
       " -0.005603162231848036,\n",
       " -0.0029339818016509284,\n",
       " -0.0016693357776944168,\n",
       " -0.002616818447186864,\n",
       " -0.0016581909820722884,\n",
       " -0.002970367990292183,\n",
       " 0.0006241832669513642,\n",
       " -0.0025463257842625736,\n",
       " -0.0028675964305232976,\n",
       " 0.00041859420555878657,\n",
       " -0.0011540207741208286,\n",
       " -0.003399634441513519,\n",
       " -0.001178108498377281,\n",
       " -0.0017216725854093534,\n",
       " -0.001468122940760458,\n",
       " -0.0013565069676285957,\n",
       " -0.003709887657325703,\n",
       " -0.000122965476575837,\n",
       " -0.004368123966048812,\n",
       " -0.001307703373667049,\n",
       " -0.0008817111810995454,\n",
       " -0.002119774956266099,\n",
       " -0.003451865945354654,\n",
       " -0.0014683440476827153,\n",
       " -0.000139053413279841,\n",
       " -0.002944392449033051,\n",
       " -0.002256616698538938,\n",
       " -0.003327991967227148,\n",
       " -0.0029200919491171456,\n",
       " -0.0014355364068072696,\n",
       " -0.0002520744707920908,\n",
       " -0.002707588478571568,\n",
       " -0.0005719539376588395,\n",
       " -0.0040703947007819236,\n",
       " 0.00014057687606458535,\n",
       " 0.0003736773114988573,\n",
       " -0.0021041708450691976,\n",
       " -0.002457656974339542,\n",
       " -0.002626502358944016,\n",
       " -0.000626651888873106,\n",
       " -0.0032533922424889117,\n",
       " 0.0005025842048793361,\n",
       " -0.002193916250482042,\n",
       " -0.00155786039114654,\n",
       " -0.0020453960748965383,\n",
       " -0.0023063335945378433,\n",
       " -0.004197003501961505,\n",
       " -0.0017637782759383908,\n",
       " -0.002478295035107006,\n",
       " -0.001462416640818684,\n",
       " -0.0002698392899135177,\n",
       " 0.00032974666250756846,\n",
       " 0.0004158267423593487,\n",
       " -0.0018683483904541054,\n",
       " -0.000595474641697985,\n",
       " -0.0027979189984808917,\n",
       " -0.001038795081564875,\n",
       " -0.0004439782519252422,\n",
       " -0.00187163933434846,\n",
       " -0.0016845471297664005,\n",
       " -0.002196943775641197,\n",
       " -0.0004632502331755606,\n",
       " -0.0005729633235809911,\n",
       " -0.0010100207719500043,\n",
       " 0.0017967156867798595,\n",
       " -0.0019063208472451937,\n",
       " -0.00206076259695262,\n",
       " -0.0015656008418444972,\n",
       " -0.002137016465491956,\n",
       " -0.0013588555191427903,\n",
       " 0.00047564197794772167,\n",
       " -0.003679315596446353,\n",
       " -0.000965316885718881,\n",
       " -0.0006764752736852647,\n",
       " -0.0015442589197039863,\n",
       " -0.0011995838637955392,\n",
       " -0.0028798210222080872,\n",
       " -0.0017354624752609765,\n",
       " -0.0021162871858624727,\n",
       " -0.002349426257376344,\n",
       " -0.0036256328195808513,\n",
       " -0.0016855932171241511,\n",
       " -0.0009626725320664997,\n",
       " 0.0012079480173756568,\n",
       " 0.0016841232824326563,\n",
       " -0.0005590533099505135,\n",
       " -0.0013818897720183076,\n",
       " -0.00013433594260631176,\n",
       " -0.0022870518060510714,\n",
       " -0.0024596994984132786,\n",
       " 0.0004033853038578339,\n",
       " -0.0011030764010819816,\n",
       " 0.0011884630069490532,\n",
       " -0.0028590295514807906,\n",
       " -0.0014407404833258197,\n",
       " -0.0011129177821646713,\n",
       " -0.0024227510402771435,\n",
       " -0.0018309369173488688,\n",
       " -0.002235219547102374,\n",
       " -0.0007184701263433929,\n",
       " -0.0017450436785322598,\n",
       " -0.0014240264291342508,\n",
       " 0.0005859694991622866,\n",
       " 0.00046607510590898626,\n",
       " -0.002092511319398249,\n",
       " -0.0018140587198010455,\n",
       " -0.00177679020031761,\n",
       " -5.481253571895661e-05,\n",
       " -0.0005567731057519038,\n",
       " -3.97732064408296e-07,\n",
       " -0.0032885653731357517,\n",
       " -0.001863001717214846,\n",
       " -0.0008886229067542745,\n",
       " -0.0014134620031124312,\n",
       " -0.0006657141716058662,\n",
       " -0.0017328426977009787,\n",
       " -5.5246578831033566e-05,\n",
       " -0.0013888512560151223,\n",
       " -0.0018300965076280956,\n",
       " -0.0017192363311739622,\n",
       " -0.0027867179391724145,\n",
       " -0.0012156686984035187,\n",
       " -0.001387904038852042,\n",
       " -0.000707576146528513,\n",
       " -0.0017334591924033221,\n",
       " -0.0015056479360277958,\n",
       " -0.000955824161033611,\n",
       " -0.0013345853287182324,\n",
       " -0.000650467025441262,\n",
       " 0.0001333057755051742,\n",
       " 0.0006553336998516152,\n",
       " -0.003360106510397559,\n",
       " 8.898631343375041e-05,\n",
       " -0.0006981017804109785,\n",
       " -0.0014724673161475438,\n",
       " 0.0008711114953831312,\n",
       " -0.00282318790682691,\n",
       " -0.001650274366724172,\n",
       " 0.0003100803270822544,\n",
       " -0.0008883133925048775,\n",
       " -0.002294102019144123,\n",
       " -0.0023607631528232836,\n",
       " 0.00031513021301578237,\n",
       " -0.0017495601411200018,\n",
       " -0.0004635209239047533,\n",
       " -0.000991185377041598,\n",
       " -0.0037449384122639345,\n",
       " -0.0024145043765614604,\n",
       " -0.0008183150737740147,\n",
       " -0.003354558656324058,\n",
       " -0.0016606018718477167,\n",
       " 0.00048054153464636984,\n",
       " -0.0004959309369359233,\n",
       " -0.002110754165137188,\n",
       " -0.0009395698231374067,\n",
       " -0.0005879575723115038,\n",
       " 4.842447221602153e-05,\n",
       " 0.000519064901271557,\n",
       " -0.002270011952864623,\n",
       " -0.003678827253374345,\n",
       " -0.002648105753373209,\n",
       " 8.199133937622505e-05,\n",
       " -0.0008791697554619976,\n",
       " -2.5128893267500896e-05,\n",
       " -0.00028865422938079144,\n",
       " -0.0003908423377702863,\n",
       " -0.002804228147691726,\n",
       " -0.0006662804333974204,\n",
       " -0.0011730764880596156,\n",
       " 1.0909833177946693e-05,\n",
       " 0.00031583551881925187,\n",
       " -0.0008461582821141372,\n",
       " -0.0013495656315582333,\n",
       " -0.004273140237230896,\n",
       " -0.002581934007775094,\n",
       " -0.0030230498491679997,\n",
       " -0.0015662372990231377,\n",
       " 0.0009634625755001458,\n",
       " -0.0008272894807761361,\n",
       " -0.0014056445254046201,\n",
       " -0.0027137912042666523,\n",
       " -0.0009470416712124285,\n",
       " -0.002379670830638128,\n",
       " 6.016178279907858e-05,\n",
       " -0.0035787360774154064,\n",
       " -0.002980308405891363,\n",
       " -0.0013889845089351677,\n",
       " -0.0022499690951663653,\n",
       " -0.0031099880828882737,\n",
       " -0.0009872856927349016,\n",
       " -0.0038063971564850085,\n",
       " -0.0003091163329045077,\n",
       " 0.00030776562865683643,\n",
       " -0.002538079690074413,\n",
       " -0.0009117707443022649,\n",
       " -0.0007950851856671631,\n",
       " -0.001882385639733919,\n",
       " -0.00044235438248640957,\n",
       " -0.0022962568210386364,\n",
       " -0.002236396737070795,\n",
       " -0.0020856348139098174,\n",
       " -8.558660548733943e-05,\n",
       " -0.0023336755589808272,\n",
       " -0.0006427632970926328,\n",
       " -0.001089637683401562,\n",
       " -0.0014039244780720966,\n",
       " -0.0015043889530698684,\n",
       " 0.0007215811691535928,\n",
       " -0.0008772787871125509,\n",
       " -0.000991463367683687,\n",
       " -0.0023282213541015173,\n",
       " -0.003218466654498736,\n",
       " -0.0023586997837977824,\n",
       " -0.001194177056197454,\n",
       " -0.0003707056867833791,\n",
       " -0.002374528535638576,\n",
       " -0.0005266922814282926,\n",
       " -0.0013968075722037843,\n",
       " 0.0005859504731598048,\n",
       " -0.0018212266714049685,\n",
       " -0.0033429172788203426,\n",
       " -0.0014940210736928972,\n",
       " -0.00010019121878683535,\n",
       " -0.0021354668213467987,\n",
       " -0.0021793837467866395,\n",
       " -0.001868125913097804,\n",
       " -0.0009095889638112142,\n",
       " -0.002068617151413918,\n",
       " -0.0019787345771073994,\n",
       " 0.00028645006925737126,\n",
       " -0.003092953255951103,\n",
       " -0.0013512730051424143,\n",
       " 0.000163564924440876,\n",
       " -0.0036591726759378357,\n",
       " -0.00030552628023526596,\n",
       " -0.0004146835118518377,\n",
       " -0.0008669478556596333,\n",
       " 0.0016336422187440414,\n",
       " -0.0018955583962232125,\n",
       " -0.0009606061356429996,\n",
       " -0.001227790065892423,\n",
       " -0.0004504144565846968,\n",
       " -0.0007092664772561236,\n",
       " -0.0002632296895847125,\n",
       " -0.002234516569165637,\n",
       " -0.0029808608544684145,\n",
       " -0.001619433784636623,\n",
       " -0.0029761698340296655,\n",
       " -0.0006525418057262283,\n",
       " 0.0002439694626475003,\n",
       " -0.002105598608141135,\n",
       " -0.0005825316069791725,\n",
       " -0.002273636526784792,\n",
       " -0.0036439160944497367,\n",
       " -0.0009974403950115257,\n",
       " -0.0025080277707526383,\n",
       " -0.0024196379805876134,\n",
       " -0.00143727398535487,\n",
       " -0.0016320100056732428,\n",
       " -0.00025623487338634343,\n",
       " -0.0014999163485003714,\n",
       " -0.001978710653569235,\n",
       " -0.0019716017892490723,\n",
       " -0.0019103617841874226,\n",
       " -0.001410900478264046,\n",
       " -0.0022284476108167667,\n",
       " -0.0012383766070640928,\n",
       " -0.0024131420870862896,\n",
       " -0.002387296154291313,\n",
       " -0.0016378429613762013,\n",
       " -0.001315690521517962,\n",
       " -0.000301070527972902,\n",
       " -0.0033004193177089275,\n",
       " -0.00402972637011921,\n",
       " -0.001208995185366754,\n",
       " -0.0007429015272456541,\n",
       " -0.0026041020590490682,\n",
       " 0.0013113347304534034,\n",
       " -0.004760628550921728,\n",
       " -0.0007600698491369989,\n",
       " -0.002858398306934698,\n",
       " -0.0009804813245997412,\n",
       " -0.0007271080287523934,\n",
       " -0.0024353283379746765,\n",
       " -0.0006389891359001032,\n",
       " -0.0009994376957387086,\n",
       " -0.001031548263291257,\n",
       " -9.086214922678082e-05,\n",
       " -0.002365534354064572,\n",
       " -0.0004971247555662917,\n",
       " -0.0035833409222534585,\n",
       " -0.0019490695654582474,\n",
       " -0.0010032323657475084,\n",
       " -0.0010826537861920171,\n",
       " -0.00148174634469532,\n",
       " -0.002219844131592222,\n",
       " -0.0016255696375239437,\n",
       " -0.0037759502003335554,\n",
       " -0.0026066252936174927,\n",
       " -0.00037681479662389494,\n",
       " -0.004275195899622594,\n",
       " -0.003117175838007677,\n",
       " -0.0003332199139671338,\n",
       " 0.00014767451690381184,\n",
       " 9.384025897471449e-05,\n",
       " -0.001251544381046757,\n",
       " -0.0039239187469508885,\n",
       " -0.0013267399504915262,\n",
       " -0.0010135567344347202,\n",
       " -0.0022430424723749592,\n",
       " -3.0076397499745333e-05,\n",
       " -0.002652911467902516,\n",
       " -0.0002763739944381949,\n",
       " -0.0018022243300868657,\n",
       " -0.002478424478907712,\n",
       " -0.0015380306323087012,\n",
       " 0.0004405248745220497,\n",
       " -0.003178434222241344,\n",
       " -0.0033811401372141336,\n",
       " -0.0019557120394006755,\n",
       " -0.0011370765483905282,\n",
       " -0.0028549623817593073,\n",
       " -0.0014284564072375577,\n",
       " -0.0013935707240512324,\n",
       " -0.0016525685417503183,\n",
       " -0.0012196511760040607,\n",
       " -0.00019953652327081572,\n",
       " -0.0012181494204885346,\n",
       " -0.0007732735700745619,\n",
       " -0.002954424056664587,\n",
       " -0.0015598394069768345,\n",
       " -0.002730571508951868,\n",
       " -0.0019296627396070548,\n",
       " -0.0006334456998348531,\n",
       " -0.0007990585843087039,\n",
       " -0.002435504506474742,\n",
       " -0.002174208268311259,\n",
       " -0.0021268238363544717,\n",
       " -0.0026346120919060606,\n",
       " -0.0011399945042501886,\n",
       " -0.002300344841639851,\n",
       " -0.0013724327947199771,\n",
       " -0.0014458028606507967,\n",
       " -0.0007359824680948368,\n",
       " -0.0015209664282899577,\n",
       " 4.45822203316848e-06,\n",
       " -0.0019437809558063152,\n",
       " -0.0006624810240921236,\n",
       " -0.003576772189900962,\n",
       " -0.0024015224736058383,\n",
       " -0.0017651991833569497,\n",
       " -0.0014608793471585224,\n",
       " -0.0019460861067044644,\n",
       " -0.0006254362347876546,\n",
       " -0.002471278974949226,\n",
       " -0.0027086159303121027,\n",
       " -0.0006723695663055362,\n",
       " -0.002136443534591234,\n",
       " -0.0013526777585322197,\n",
       " -0.0008350213278856405,\n",
       " -0.0014338891831204154,\n",
       " -0.0018218757027081145,\n",
       " -0.0016250105175367735,\n",
       " -0.0010607096256130266,\n",
       " -0.003137000591486791,\n",
       " -0.001138952788146727,\n",
       " -0.0008483113063649239,\n",
       " 0.001471693622692602,\n",
       " -0.00197857592276951,\n",
       " -0.0007691492557159452,\n",
       " -0.002227323876358267,\n",
       " -0.0013509846692776606,\n",
       " 0.0006999179139173389,\n",
       " -0.002446330184264975,\n",
       " -0.0019296839611337019,\n",
       " -0.002369807316780298,\n",
       " -0.0025491891320799237,\n",
       " -0.0011900381813306354,\n",
       " -0.0014882927625357034,\n",
       " 0.002385169315058999,\n",
       " -0.0017967101498620047,\n",
       " -0.0019098535514632947,\n",
       " -0.005130793377700726,\n",
       " -0.002606909567896165,\n",
       " -0.002552067845879899,\n",
       " -0.0024387070252252924,\n",
       " -0.00018871059419538205,\n",
       " -0.0019085384568259811,\n",
       " -0.0008804722235926099,\n",
       " -0.002586329432080578,\n",
       " -0.0004876229371937324,\n",
       " -0.0011384681845929279,\n",
       " 0.00023016561036361127,\n",
       " -0.002688003356306423,\n",
       " 0.0003235729119533681,\n",
       " -0.000474233044399322,\n",
       " -0.0011521409854692716,\n",
       " -0.0019954033188133297,\n",
       " -0.0015049687533157108,\n",
       " -0.0015508203273022492,\n",
       " -0.0002062593390522588,\n",
       " -0.00017121686991444784,\n",
       " -0.0017585902514955926,\n",
       " -0.0025032319582359436,\n",
       " -0.0019361015040062074,\n",
       " -0.001149864738032802,\n",
       " -0.001304950398054061,\n",
       " -0.0020663781052979308,\n",
       " -0.0010510267956975045,\n",
       " -0.002285725354935292,\n",
       " -0.0029800784008513076,\n",
       " -0.002609383264957549,\n",
       " -0.0021337448215739407,\n",
       " -0.0005073176303346527,\n",
       " -0.0021430749926707737,\n",
       " -0.003569639050436696,\n",
       " -0.0019518872714035518,\n",
       " 0.0007738589262312606,\n",
       " -0.001547660996559841,\n",
       " -0.0015065632246567262,\n",
       " -0.0016055707951452003,\n",
       " -0.00030892326988976593,\n",
       " -0.0011064177638229894,\n",
       " 0.0005704792675613191,\n",
       " -0.001257981138838113,\n",
       " 0.0007831889706397394,\n",
       " -0.0024293020820391614,\n",
       " -0.001462409250873875,\n",
       " 0.0005280088980184616,\n",
       " -0.0027148802243002895,\n",
       " -0.0007353642706248997,\n",
       " -0.0014291162758687526,\n",
       " -0.0026904734388342316,\n",
       " -0.0009178087403887564,\n",
       " 0.00019212900885975936,\n",
       " -0.00019932729564511864,\n",
       " -0.00469019616724517,\n",
       " -0.0005530795308825442,\n",
       " -0.0013620980641598501,\n",
       " -0.0016440553455613766,\n",
       " ...]"
      ]
     },
     "execution_count": 28,
     "metadata": {},
     "output_type": "execute_result"
    }
   ],
   "source": [
    "# Code changed - could do with binomial but unfortunatly wasnt confident to the application of this method to find pvalue since\n",
    "# the result wasnt acurrate for what we expect (0.9)\n",
    "\n",
    "#p_diffs, new_pages, old_pages = [],[],[]\n",
    "p_diffs = []\n",
    "for _ in range(10000):\n",
    "    samp = df2.sample(df2.shape[0], replace = True) # unfortunatetly when i insert this df2.shape[0] my computer break in the middle with a memory error \n",
    "    p_new = samp.query('landing_page == \"new_page\"')['convert_bool'].mean()\n",
    "    p_old = samp.query('landing_page == \"old_page\"')['convert_bool'].mean()\n",
    "    \n",
    "#p_new = np.random.binomial(n_new, p_new,  10000)/n_new\n",
    "#p_old = np.random.binomial(n_old, p_old,  10000)/n_old\n",
    "    #p_diffs = new_converted_simulation - old_converted_simulation\n",
    " \n",
    "    p_diffs.append(p_new - p_old)\n",
    "p_diffs"
   ]
  },
  {
   "cell_type": "markdown",
   "metadata": {},
   "source": [
    "i. Plot a histogram of the **p_diffs**.  Does this plot look like what you expected?  Use the matching problem in the classroom to assure you fully understand what was computed here."
   ]
  },
  {
   "cell_type": "markdown",
   "metadata": {},
   "source": [
    "The plot look like what i expected, that was due to the fact that p_new - p_old under the null is 0. Therefore, i was expexting to see a plot where 0 is centred and the other valeus would be around the 0 as well.  "
   ]
  },
  {
   "cell_type": "code",
   "execution_count": 29,
   "metadata": {
    "scrolled": true
   },
   "outputs": [
    {
     "data": {
      "image/png": "[encoded data removed]",
      "text/plain": [
       "<Figure size 432x288 with 1 Axes>"
      ]
     },
     "metadata": {},
     "output_type": "display_data"
    }
   ],
   "source": [
    "plt.hist(p_diffs);"
   ]
  },
  {
   "cell_type": "markdown",
   "metadata": {},
   "source": [
    "j. What proportion of the **p_diffs** are greater than the actual difference observed in **ab_data.csv**?"
   ]
  },
  {
   "cell_type": "code",
   "execution_count": 30,
   "metadata": {},
   "outputs": [
    {
     "data": {
      "text/plain": [
       "array([ 8.85329271e-04,  9.97048530e-04,  1.04112245e-03, ...,\n",
       "       -7.69746366e-04, -4.87365356e-04,  2.00106250e-05])"
      ]
     },
     "execution_count": 30,
     "metadata": {},
     "output_type": "execute_result"
    }
   ],
   "source": [
    "# Simulate distribution under the null hypothesis\n",
    "null_vals = np.random.normal(0,np.std(p_diffs), len(p_diffs))\n",
    "null_vals"
   ]
  },
  {
   "cell_type": "code",
   "execution_count": 31,
   "metadata": {},
   "outputs": [
    {
     "data": {
      "text/plain": [
       "0.8986"
      ]
     },
     "execution_count": 31,
     "metadata": {},
     "output_type": "execute_result"
    }
   ],
   "source": [
    "ab_new = df2.query('landing_page == \"new_page\"')['convert_bool'].mean()\n",
    "ab_old = df2.query('landing_page == \"old_page\"')['convert_bool'].mean()\n",
    "ab_obs_diff = ab_new - ab_old \n",
    "# on average the old page converts at least ab_obs_diff ?paginas? more than the new page \n",
    "\n",
    "(null_vals > ab_obs_diff ).mean()"
   ]
  },
  {
   "cell_type": "code",
   "execution_count": 32,
   "metadata": {},
   "outputs": [
    {
     "data": {
      "image/png": "[encoded data removed]",
      "text/plain": [
       "<Figure size 432x288 with 1 Axes>"
      ]
     },
     "metadata": {},
     "output_type": "display_data"
    }
   ],
   "source": [
    "# Bonus\n",
    "# Plot observed statistic with the null distibution\n",
    "plt.hist(null_vals);\n",
    "plt.axvline(ab_obs_diff, c='red');"
   ]
  },
  {
   "cell_type": "markdown",
   "metadata": {},
   "source": [
    "k. In words, explain what you just computed in part **j.**  What is this value called in scientific studies?  What does this value mean in terms of whether or not there is a difference between the new and old pages?"
   ]
  },
  {
   "cell_type": "markdown",
   "metadata": {},
   "source": [
    "**We used this sampling distribution to simulate the distribution under the null hypothesis, by creating a random normal distribution centered at 0 with the same spread and size.\n",
    "We computed the observed difference between the metric, average in converted pages, for the new_page and old_page group.\n",
    "We computed the p-value by finding the proportion of values in the null distribution that were greater than our observed difference.\n",
    "in scientific studies this value called is called p-value, which is used here to determine the tatistical significance of our observed difference.\n",
    "Since the alpha is 5% we reject the null hypotesis because the p-value (90%) is more than alpha.**"
   ]
  },
  {
   "cell_type": "markdown",
   "metadata": {},
   "source": [
    "l. We could also use a built-in to achieve similar results.  Though using the built-in might be easier to code, the above portions are a walkthrough of the ideas that are critical to correctly thinking about statistical significance. Fill in the below to calculate the number of conversions for each page, as well as the number of individuals who received each page. Let `n_old` and `n_new` refer the the number of rows associated with the old page and new pages, respectively."
   ]
  },
  {
   "cell_type": "code",
   "execution_count": 33,
   "metadata": {},
   "outputs": [
    {
     "data": {
      "text/plain": [
       "(17489, 17264, 145274, 145310)"
      ]
     },
     "execution_count": 33,
     "metadata": {},
     "output_type": "execute_result"
    }
   ],
   "source": [
    "import statsmodels.api as sm\n",
    "\n",
    "convert_old = df2.query('landing_page == \"old_page\" and convert_bool == 1').shape[0]\n",
    "convert_new = df2.query('landing_page == \"new_page\" and convert_bool == 1').shape[0]\n",
    "n_old = df2.query('landing_page == \"old_page\"').shape[0]\n",
    "n_new = df2.query('landing_page == \"new_page\"').shape[0]\n",
    "\n",
    "convert_old , convert_new , n_old, n_new"
   ]
  },
  {
   "cell_type": "markdown",
   "metadata": {},
   "source": [
    "m. Now use `stats.proportions_ztest` to compute your test statistic and p-value.  [Here](http://knowledgetack.com/python/statsmodels/proportions_ztest/) is a helpful link on using the built in."
   ]
  },
  {
   "cell_type": "code",
   "execution_count": 34,
   "metadata": {},
   "outputs": [
    {
     "data": {
      "text/plain": [
       "(-1.3109241984234394, 0.9050583127590245)"
      ]
     },
     "execution_count": 34,
     "metadata": {},
     "output_type": "execute_result"
    }
   ],
   "source": [
    "z_score, p_value = sm.stats.proportions_ztest([convert_new, convert_old], [n_new, n_old],alternative='larger')\n",
    "z_score, p_value "
   ]
  },
  {
   "cell_type": "code",
   "execution_count": 35,
   "metadata": {},
   "outputs": [
    {
     "data": {
      "text/plain": [
       "0.09494168724097551"
      ]
     },
     "execution_count": 35,
     "metadata": {},
     "output_type": "execute_result"
    }
   ],
   "source": [
    "from scipy.stats import norm\n",
    "norm.cdf(z_score)\n",
    "# 0.9999999383005862 # Tells us how significant our z-score is"
   ]
  },
  {
   "cell_type": "code",
   "execution_count": 36,
   "metadata": {},
   "outputs": [
    {
     "data": {
      "text/plain": [
       "1.959963984540054"
      ]
     },
     "execution_count": 36,
     "metadata": {},
     "output_type": "execute_result"
    }
   ],
   "source": [
    "norm.ppf(1-(0.05/2))\n",
    "# 1.959963984540054 # Tells us what our critical value at 95% confidence is"
   ]
  },
  {
   "cell_type": "markdown",
   "metadata": {},
   "source": [
    "n. What do the z-score and p-value you computed in the previous question mean for the conversion rates of the old and new pages?  Do they agree with the findings in parts **j.** and **k.**?"
   ]
  },
  {
   "cell_type": "markdown",
   "metadata": {},
   "source": [
    "**Picked a significance level of 95%. \n",
    "Since this is a test for the difference, it's a two-tail test so if a z-score past -1.96 or 1.96 will be significant. \n",
    "Which was not the case since the z_score is 1.31.\n",
    "Which means that both pages are statistically equal from each other and we would expect their long-term performance to be equal from one another.\n",
    "Diferent from the parts j. and k. were we reject the null hypotesis because the p-value (0.90) is more than alpha.**"
   ]
  },
  {
   "cell_type": "markdown",
   "metadata": {},
   "source": [
    "<a id='regression'></a>\n",
    "### Part III - A regression approach\n",
    "\n",
    "`1.` In this final part, you will see that the result you acheived in the previous A/B test can also be acheived by performing regression.<br><br>\n",
    "\n",
    "a. Since each row is either a conversion or no conversion, what type of regression should you be performing in this case?"
   ]
  },
  {
   "cell_type": "markdown",
   "metadata": {},
   "source": [
    "**Logistic Regression - because besides the fact that can work with categorical variables is also a regression approach used to predict only two possible outmcomes.**"
   ]
  },
  {
   "cell_type": "markdown",
   "metadata": {},
   "source": [
    "b. The goal is to use **statsmodels** to fit the regression model you specified in part **a.** to see if there is a significant difference in conversion based on which page a customer receives.  However, you first need to create a column for the intercept, and create a dummy variable column for which page each user received.  Add an **intercept** column, as well as an **ab_page** column, which is 1 when an individual receives the **treatment** and 0 if **control**."
   ]
  },
  {
   "cell_type": "code",
   "execution_count": 37,
   "metadata": {
    "scrolled": false
   },
   "outputs": [
    {
     "name": "stderr",
     "output_type": "stream",
     "text": [
      "C:\\Users\\eambriza\\AppData\\Local\\Continuum\\anaconda3\\lib\\site-packages\\ipykernel_launcher.py:7: SettingWithCopyWarning: \n",
      "A value is trying to be set on a copy of a slice from a DataFrame.\n",
      "Try using .loc[row_indexer,col_indexer] = value instead\n",
      "\n",
      "See the caveats in the documentation: http://pandas.pydata.org/pandas-docs/stable/indexing.html#indexing-view-versus-copy\n",
      "  import sys\n",
      "C:\\Users\\eambriza\\AppData\\Local\\Continuum\\anaconda3\\lib\\site-packages\\ipykernel_launcher.py:10: SettingWithCopyWarning: \n",
      "A value is trying to be set on a copy of a slice from a DataFrame.\n",
      "Try using .loc[row_indexer,col_indexer] = value instead\n",
      "\n",
      "See the caveats in the documentation: http://pandas.pydata.org/pandas-docs/stable/indexing.html#indexing-view-versus-copy\n",
      "  # Remove the CWD from sys.path while we load stuff.\n"
     ]
    }
   ],
   "source": [
    "# Creating dummy variable column for which page each user received\n",
    "# For this point i understood that we shoudld create dummy variable column for landing_page. However does not seem to be relevant\n",
    "# Since the dummy group column has the same values  \n",
    "# df2['landing'] = pd.get_dummies(df2['landing_page'])['new_page']\n",
    "\n",
    "# Creating intercept \n",
    "df2['intercept'] = 1\n",
    "\n",
    "# Creating ab_page column \n",
    "df2['ab_page'] = pd.get_dummies(df2['group'])['treatment']"
   ]
  },
  {
   "cell_type": "markdown",
   "metadata": {},
   "source": [
    "c. Use **statsmodels** to import your regression model.  Instantiate the model, and fit the model using the two columns you created in part **b.** to predict whether or not an individual converts."
   ]
  },
  {
   "cell_type": "code",
   "execution_count": 38,
   "metadata": {},
   "outputs": [],
   "source": [
    "converts = sm.OLS(df2['converted'], df2[['intercept', 'ab_page']])\n",
    "converts_p = converts.fit()"
   ]
  },
  {
   "cell_type": "markdown",
   "metadata": {},
   "source": [
    "d. Provide the summary of your model below, and use it as necessary to answer the following questions."
   ]
  },
  {
   "cell_type": "code",
   "execution_count": 39,
   "metadata": {},
   "outputs": [
    {
     "data": {
      "text/html": [
       "<table class=\"simpletable\">\n",
       "<caption>OLS Regression Results</caption>\n",
       "<tr>\n",
       "  <th>Dep. Variable:</th>        <td>converted</td>    <th>  R-squared:         </th> <td>   0.000</td> \n",
       "</tr>\n",
       "<tr>\n",
       "  <th>Model:</th>                   <td>OLS</td>       <th>  Adj. R-squared:    </th> <td>   0.000</td> \n",
       "</tr>\n",
       "<tr>\n",
       "  <th>Method:</th>             <td>Least Squares</td>  <th>  F-statistic:       </th> <td>   1.719</td> \n",
       "</tr>\n",
       "<tr>\n",
       "  <th>Date:</th>             <td>Tue, 19 Jun 2018</td> <th>  Prob (F-statistic):</th>  <td> 0.190</td>  \n",
       "</tr>\n",
       "<tr>\n",
       "  <th>Time:</th>                 <td>01:14:44</td>     <th>  Log-Likelihood:    </th> <td> -85267.</td> \n",
       "</tr>\n",
       "<tr>\n",
       "  <th>No. Observations:</th>      <td>290584</td>      <th>  AIC:               </th> <td>1.705e+05</td>\n",
       "</tr>\n",
       "<tr>\n",
       "  <th>Df Residuals:</th>          <td>290582</td>      <th>  BIC:               </th> <td>1.706e+05</td>\n",
       "</tr>\n",
       "<tr>\n",
       "  <th>Df Model:</th>              <td>     1</td>      <th>                     </th>     <td> </td>    \n",
       "</tr>\n",
       "<tr>\n",
       "  <th>Covariance Type:</th>      <td>nonrobust</td>    <th>                     </th>     <td> </td>    \n",
       "</tr>\n",
       "</table>\n",
       "<table class=\"simpletable\">\n",
       "<tr>\n",
       "      <td></td>         <th>coef</th>     <th>std err</th>      <th>t</th>      <th>P>|t|</th>  <th>[0.025</th>    <th>0.975]</th>  \n",
       "</tr>\n",
       "<tr>\n",
       "  <th>intercept</th> <td>    0.1204</td> <td>    0.001</td> <td>  141.407</td> <td> 0.000</td> <td>    0.119</td> <td>    0.122</td>\n",
       "</tr>\n",
       "<tr>\n",
       "  <th>ab_page</th>   <td>   -0.0016</td> <td>    0.001</td> <td>   -1.311</td> <td> 0.190</td> <td>   -0.004</td> <td>    0.001</td>\n",
       "</tr>\n",
       "</table>\n",
       "<table class=\"simpletable\">\n",
       "<tr>\n",
       "  <th>Omnibus:</th>       <td>125553.456</td> <th>  Durbin-Watson:     </th>  <td>   1.995</td> \n",
       "</tr>\n",
       "<tr>\n",
       "  <th>Prob(Omnibus):</th>   <td> 0.000</td>   <th>  Jarque-Bera (JB):  </th> <td>414313.355</td>\n",
       "</tr>\n",
       "<tr>\n",
       "  <th>Skew:</th>            <td> 2.345</td>   <th>  Prob(JB):          </th>  <td>    0.00</td> \n",
       "</tr>\n",
       "<tr>\n",
       "  <th>Kurtosis:</th>        <td> 6.497</td>   <th>  Cond. No.          </th>  <td>    2.62</td> \n",
       "</tr>\n",
       "</table><br/><br/>Warnings:<br/>[1] Standard Errors assume that the covariance matrix of the errors is correctly specified."
      ],
      "text/plain": [
       "<class 'statsmodels.iolib.summary.Summary'>\n",
       "\"\"\"\n",
       "                            OLS Regression Results                            \n",
       "==============================================================================\n",
       "Dep. Variable:              converted   R-squared:                       0.000\n",
       "Model:                            OLS   Adj. R-squared:                  0.000\n",
       "Method:                 Least Squares   F-statistic:                     1.719\n",
       "Date:                Tue, 19 Jun 2018   Prob (F-statistic):              0.190\n",
       "Time:                        01:14:44   Log-Likelihood:                -85267.\n",
       "No. Observations:              290584   AIC:                         1.705e+05\n",
       "Df Residuals:                  290582   BIC:                         1.706e+05\n",
       "Df Model:                           1                                         \n",
       "Covariance Type:            nonrobust                                         \n",
       "==============================================================================\n",
       "                 coef    std err          t      P>|t|      [0.025      0.975]\n",
       "------------------------------------------------------------------------------\n",
       "intercept      0.1204      0.001    141.407      0.000       0.119       0.122\n",
       "ab_page       -0.0016      0.001     -1.311      0.190      -0.004       0.001\n",
       "==============================================================================\n",
       "Omnibus:                   125553.456   Durbin-Watson:                   1.995\n",
       "Prob(Omnibus):                  0.000   Jarque-Bera (JB):           414313.355\n",
       "Skew:                           2.345   Prob(JB):                         0.00\n",
       "Kurtosis:                       6.497   Cond. No.                         2.62\n",
       "==============================================================================\n",
       "\n",
       "Warnings:\n",
       "[1] Standard Errors assume that the covariance matrix of the errors is correctly specified.\n",
       "\"\"\""
      ]
     },
     "execution_count": 39,
     "metadata": {},
     "output_type": "execute_result"
    }
   ],
   "source": [
    "converts_p.summary()"
   ]
  },
  {
   "cell_type": "markdown",
   "metadata": {},
   "source": [
    "e. What is the p-value associated with **ab_page**? Why does it differ from the value you found in **Part II**?<br><br>  **Hint**: What are the null and alternative hypotheses associated with your regression model, and how do they compare to the null and alternative hypotheses in the **Part II**?"
   ]
  },
  {
   "cell_type": "markdown",
   "metadata": {},
   "source": [
    "**The p-value associated with ab_page is 0.190\n",
    "Because in regression the hypothesis test for each x-variable is a test of if that population slope is equal to zero vs. an alternative where the parameter differs from zero\n",
    "It differs from part II because the hypotheses in part II says that the control group is equal or better than the treatment group until we prove the other way arround with the alternative and in the null in part III says that theres no diferrence between the treatment and control group until we prove the other way arround with the alternative.**\n",
    " "
   ]
  },
  {
   "cell_type": "markdown",
   "metadata": {},
   "source": [
    "f. Now, you are considering other things that might influence whether or not an individual converts.  Discuss why it is a good idea to consider other factors to add into your regression model.  Are there any disadvantages to adding additional terms into your regression model?"
   ]
  },
  {
   "cell_type": "markdown",
   "metadata": {},
   "source": [
    "**Timestamp can be a great influencer since we can find the \"peak-time\" during a day, week or month and from there find how much can change an individual to convert. \n",
    "Significant bivariate relationships are not always significant in multiple liner regression that means that a variable can be significant in a simple regression model and not when we add into a multiple linear regression model.**"
   ]
  },
  {
   "cell_type": "markdown",
   "metadata": {},
   "source": [
    "g. Now along with testing if the conversion rate changes for different pages, also add an effect based on which country a user lives. You will need to read in the **countries.csv** dataset and merge together your datasets on the approporiate rows.  [Here](https://pandas.pydata.org/pandas-docs/stable/generated/pandas.DataFrame.join.html) are the docs for joining tables. \n",
    "\n",
    "Does it appear that country had an impact on conversion?  Don't forget to create dummy variables for these country columns - **Hint: You will need two columns for the three dummy variables.** Provide the statistical output as well as a written response to answer this question."
   ]
  },
  {
   "cell_type": "code",
   "execution_count": 40,
   "metadata": {},
   "outputs": [],
   "source": [
    "countries_df = pd.read_csv('./countries.csv')\n",
    "df_new = countries_df.set_index('user_id').join(df2.set_index('user_id'), how='inner')"
   ]
  },
  {
   "cell_type": "code",
   "execution_count": 41,
   "metadata": {},
   "outputs": [],
   "source": [
    "# Create the necessary dummy variables\n",
    "df_new[['CA','UK','US']] = pd.get_dummies(df_new['country'])\n",
    "df_new = df_new.drop('US', axis=1)"
   ]
  },
  {
   "cell_type": "code",
   "execution_count": 42,
   "metadata": {},
   "outputs": [],
   "source": [
    "country_page = sm.OLS(df_new['converted'], df_new[['intercept', 'ab_page', 'CA', 'UK']])"
   ]
  },
  {
   "cell_type": "code",
   "execution_count": 43,
   "metadata": {},
   "outputs": [
    {
     "data": {
      "text/html": [
       "<table class=\"simpletable\">\n",
       "<caption>OLS Regression Results</caption>\n",
       "<tr>\n",
       "  <th>Dep. Variable:</th>        <td>converted</td>    <th>  R-squared:         </th> <td>   0.000</td> \n",
       "</tr>\n",
       "<tr>\n",
       "  <th>Model:</th>                   <td>OLS</td>       <th>  Adj. R-squared:    </th> <td>   0.000</td> \n",
       "</tr>\n",
       "<tr>\n",
       "  <th>Method:</th>             <td>Least Squares</td>  <th>  F-statistic:       </th> <td>   1.640</td> \n",
       "</tr>\n",
       "<tr>\n",
       "  <th>Date:</th>             <td>Tue, 19 Jun 2018</td> <th>  Prob (F-statistic):</th>  <td> 0.178</td>  \n",
       "</tr>\n",
       "<tr>\n",
       "  <th>Time:</th>                 <td>01:14:45</td>     <th>  Log-Likelihood:    </th> <td> -85266.</td> \n",
       "</tr>\n",
       "<tr>\n",
       "  <th>No. Observations:</th>      <td>290584</td>      <th>  AIC:               </th> <td>1.705e+05</td>\n",
       "</tr>\n",
       "<tr>\n",
       "  <th>Df Residuals:</th>          <td>290580</td>      <th>  BIC:               </th> <td>1.706e+05</td>\n",
       "</tr>\n",
       "<tr>\n",
       "  <th>Df Model:</th>              <td>     3</td>      <th>                     </th>     <td> </td>    \n",
       "</tr>\n",
       "<tr>\n",
       "  <th>Covariance Type:</th>      <td>nonrobust</td>    <th>                     </th>     <td> </td>    \n",
       "</tr>\n",
       "</table>\n",
       "<table class=\"simpletable\">\n",
       "<tr>\n",
       "      <td></td>         <th>coef</th>     <th>std err</th>      <th>t</th>      <th>P>|t|</th>  <th>[0.025</th>    <th>0.975]</th>  \n",
       "</tr>\n",
       "<tr>\n",
       "  <th>intercept</th> <td>    0.1203</td> <td>    0.001</td> <td>  128.267</td> <td> 0.000</td> <td>    0.118</td> <td>    0.122</td>\n",
       "</tr>\n",
       "<tr>\n",
       "  <th>ab_page</th>   <td>   -0.0016</td> <td>    0.001</td> <td>   -1.307</td> <td> 0.191</td> <td>   -0.004</td> <td>    0.001</td>\n",
       "</tr>\n",
       "<tr>\n",
       "  <th>CA</th>        <td>   -0.0042</td> <td>    0.003</td> <td>   -1.514</td> <td> 0.130</td> <td>   -0.010</td> <td>    0.001</td>\n",
       "</tr>\n",
       "<tr>\n",
       "  <th>UK</th>        <td>    0.0010</td> <td>    0.001</td> <td>    0.744</td> <td> 0.457</td> <td>   -0.002</td> <td>    0.004</td>\n",
       "</tr>\n",
       "</table>\n",
       "<table class=\"simpletable\">\n",
       "<tr>\n",
       "  <th>Omnibus:</th>       <td>125551.169</td> <th>  Durbin-Watson:     </th>  <td>   2.000</td> \n",
       "</tr>\n",
       "<tr>\n",
       "  <th>Prob(Omnibus):</th>   <td> 0.000</td>   <th>  Jarque-Bera (JB):  </th> <td>414297.780</td>\n",
       "</tr>\n",
       "<tr>\n",
       "  <th>Skew:</th>            <td> 2.345</td>   <th>  Prob(JB):          </th>  <td>    0.00</td> \n",
       "</tr>\n",
       "<tr>\n",
       "  <th>Kurtosis:</th>        <td> 6.497</td>   <th>  Cond. No.          </th>  <td>    5.47</td> \n",
       "</tr>\n",
       "</table><br/><br/>Warnings:<br/>[1] Standard Errors assume that the covariance matrix of the errors is correctly specified."
      ],
      "text/plain": [
       "<class 'statsmodels.iolib.summary.Summary'>\n",
       "\"\"\"\n",
       "                            OLS Regression Results                            \n",
       "==============================================================================\n",
       "Dep. Variable:              converted   R-squared:                       0.000\n",
       "Model:                            OLS   Adj. R-squared:                  0.000\n",
       "Method:                 Least Squares   F-statistic:                     1.640\n",
       "Date:                Tue, 19 Jun 2018   Prob (F-statistic):              0.178\n",
       "Time:                        01:14:45   Log-Likelihood:                -85266.\n",
       "No. Observations:              290584   AIC:                         1.705e+05\n",
       "Df Residuals:                  290580   BIC:                         1.706e+05\n",
       "Df Model:                           3                                         \n",
       "Covariance Type:            nonrobust                                         \n",
       "==============================================================================\n",
       "                 coef    std err          t      P>|t|      [0.025      0.975]\n",
       "------------------------------------------------------------------------------\n",
       "intercept      0.1203      0.001    128.267      0.000       0.118       0.122\n",
       "ab_page       -0.0016      0.001     -1.307      0.191      -0.004       0.001\n",
       "CA            -0.0042      0.003     -1.514      0.130      -0.010       0.001\n",
       "UK             0.0010      0.001      0.744      0.457      -0.002       0.004\n",
       "==============================================================================\n",
       "Omnibus:                   125551.169   Durbin-Watson:                   2.000\n",
       "Prob(Omnibus):                  0.000   Jarque-Bera (JB):           414297.780\n",
       "Skew:                           2.345   Prob(JB):                         0.00\n",
       "Kurtosis:                       6.497   Cond. No.                         5.47\n",
       "==============================================================================\n",
       "\n",
       "Warnings:\n",
       "[1] Standard Errors assume that the covariance matrix of the errors is correctly specified.\n",
       "\"\"\""
      ]
     },
     "execution_count": 43,
     "metadata": {},
     "output_type": "execute_result"
    }
   ],
   "source": [
    "results_country_page = country_page.fit()\n",
    "results_country_page.summary()"
   ]
  },
  {
   "cell_type": "markdown",
   "metadata": {},
   "source": [
    "**The coefficients  CA, UK AB_page were -0.0042, 0.0010 and 0.1203 respectively, represent the expected change in response for each 1 unit increase on the other variable.\n",
    "Rsquared variable - from this whe can conclude that the model doesnt fit, were we have 0% of the convertion variaty.\n",
    "The Pvalues suggests that CA, UK and AB_page are statistically insignificant to an individual convert a page/. Due to the fact that this results were diferent than zero.** "
   ]
  },
  {
   "cell_type": "markdown",
   "metadata": {},
   "source": [
    "h. Though you have now looked at the individual factors of country and page on conversion, we would now like to look at an interaction between page and country to see if there significant effects on conversion.  Create the necessary additional columns, and fit the new model.  \n",
    "\n",
    "Provide the summary results, and your conclusions based on the results."
   ]
  },
  {
   "cell_type": "code",
   "execution_count": 44,
   "metadata": {
    "scrolled": true
   },
   "outputs": [],
   "source": [
    "# Function created for iterration between the page column and countries \n",
    "def calculate(x,y):\n",
    "    return x*y"
   ]
  },
  {
   "cell_type": "code",
   "execution_count": 45,
   "metadata": {},
   "outputs": [],
   "source": [
    "# Create 2 columns to add the new iterration columns  \n",
    "df_new['page_ca'] = np.multiply(df_new['ab_page'],df_new['CA'])\n",
    "df_new['page_uk'] = np.multiply(df_new['ab_page'],df_new['UK'])"
   ]
  },
  {
   "cell_type": "code",
   "execution_count": 46,
   "metadata": {},
   "outputs": [],
   "source": [
    "country_new_p = sm.OLS(df_new['converted'], df_new[['intercept', 'ab_page', 'CA', 'UK','page_ca','page_uk']])"
   ]
  },
  {
   "cell_type": "code",
   "execution_count": 47,
   "metadata": {},
   "outputs": [
    {
     "data": {
      "text/html": [
       "<table class=\"simpletable\">\n",
       "<caption>OLS Regression Results</caption>\n",
       "<tr>\n",
       "  <th>Dep. Variable:</th>        <td>converted</td>    <th>  R-squared:         </th> <td>   0.000</td> \n",
       "</tr>\n",
       "<tr>\n",
       "  <th>Model:</th>                   <td>OLS</td>       <th>  Adj. R-squared:    </th> <td>   0.000</td> \n",
       "</tr>\n",
       "<tr>\n",
       "  <th>Method:</th>             <td>Least Squares</td>  <th>  F-statistic:       </th> <td>   1.466</td> \n",
       "</tr>\n",
       "<tr>\n",
       "  <th>Date:</th>             <td>Tue, 19 Jun 2018</td> <th>  Prob (F-statistic):</th>  <td> 0.197</td>  \n",
       "</tr>\n",
       "<tr>\n",
       "  <th>Time:</th>                 <td>01:14:47</td>     <th>  Log-Likelihood:    </th> <td> -85265.</td> \n",
       "</tr>\n",
       "<tr>\n",
       "  <th>No. Observations:</th>      <td>290584</td>      <th>  AIC:               </th> <td>1.705e+05</td>\n",
       "</tr>\n",
       "<tr>\n",
       "  <th>Df Residuals:</th>          <td>290578</td>      <th>  BIC:               </th> <td>1.706e+05</td>\n",
       "</tr>\n",
       "<tr>\n",
       "  <th>Df Model:</th>              <td>     5</td>      <th>                     </th>     <td> </td>    \n",
       "</tr>\n",
       "<tr>\n",
       "  <th>Covariance Type:</th>      <td>nonrobust</td>    <th>                     </th>     <td> </td>    \n",
       "</tr>\n",
       "</table>\n",
       "<table class=\"simpletable\">\n",
       "<tr>\n",
       "      <td></td>         <th>coef</th>     <th>std err</th>      <th>t</th>      <th>P>|t|</th>  <th>[0.025</th>    <th>0.975]</th>  \n",
       "</tr>\n",
       "<tr>\n",
       "  <th>intercept</th> <td>    0.1206</td> <td>    0.001</td> <td>  118.563</td> <td> 0.000</td> <td>    0.119</td> <td>    0.123</td>\n",
       "</tr>\n",
       "<tr>\n",
       "  <th>ab_page</th>   <td>   -0.0022</td> <td>    0.001</td> <td>   -1.505</td> <td> 0.132</td> <td>   -0.005</td> <td>    0.001</td>\n",
       "</tr>\n",
       "<tr>\n",
       "  <th>CA</th>        <td>   -0.0018</td> <td>    0.004</td> <td>   -0.467</td> <td> 0.641</td> <td>   -0.010</td> <td>    0.006</td>\n",
       "</tr>\n",
       "<tr>\n",
       "  <th>UK</th>        <td>   -0.0006</td> <td>    0.002</td> <td>   -0.307</td> <td> 0.759</td> <td>   -0.004</td> <td>    0.003</td>\n",
       "</tr>\n",
       "<tr>\n",
       "  <th>page_ca</th>   <td>   -0.0047</td> <td>    0.006</td> <td>   -0.845</td> <td> 0.398</td> <td>   -0.016</td> <td>    0.006</td>\n",
       "</tr>\n",
       "<tr>\n",
       "  <th>page_uk</th>   <td>    0.0033</td> <td>    0.003</td> <td>    1.180</td> <td> 0.238</td> <td>   -0.002</td> <td>    0.009</td>\n",
       "</tr>\n",
       "</table>\n",
       "<table class=\"simpletable\">\n",
       "<tr>\n",
       "  <th>Omnibus:</th>       <td>125549.436</td> <th>  Durbin-Watson:     </th>  <td>   2.000</td> \n",
       "</tr>\n",
       "<tr>\n",
       "  <th>Prob(Omnibus):</th>   <td> 0.000</td>   <th>  Jarque-Bera (JB):  </th> <td>414285.945</td>\n",
       "</tr>\n",
       "<tr>\n",
       "  <th>Skew:</th>            <td> 2.345</td>   <th>  Prob(JB):          </th>  <td>    0.00</td> \n",
       "</tr>\n",
       "<tr>\n",
       "  <th>Kurtosis:</th>        <td> 6.497</td>   <th>  Cond. No.          </th>  <td>    12.7</td> \n",
       "</tr>\n",
       "</table><br/><br/>Warnings:<br/>[1] Standard Errors assume that the covariance matrix of the errors is correctly specified."
      ],
      "text/plain": [
       "<class 'statsmodels.iolib.summary.Summary'>\n",
       "\"\"\"\n",
       "                            OLS Regression Results                            \n",
       "==============================================================================\n",
       "Dep. Variable:              converted   R-squared:                       0.000\n",
       "Model:                            OLS   Adj. R-squared:                  0.000\n",
       "Method:                 Least Squares   F-statistic:                     1.466\n",
       "Date:                Tue, 19 Jun 2018   Prob (F-statistic):              0.197\n",
       "Time:                        01:14:47   Log-Likelihood:                -85265.\n",
       "No. Observations:              290584   AIC:                         1.705e+05\n",
       "Df Residuals:                  290578   BIC:                         1.706e+05\n",
       "Df Model:                           5                                         \n",
       "Covariance Type:            nonrobust                                         \n",
       "==============================================================================\n",
       "                 coef    std err          t      P>|t|      [0.025      0.975]\n",
       "------------------------------------------------------------------------------\n",
       "intercept      0.1206      0.001    118.563      0.000       0.119       0.123\n",
       "ab_page       -0.0022      0.001     -1.505      0.132      -0.005       0.001\n",
       "CA            -0.0018      0.004     -0.467      0.641      -0.010       0.006\n",
       "UK            -0.0006      0.002     -0.307      0.759      -0.004       0.003\n",
       "page_ca       -0.0047      0.006     -0.845      0.398      -0.016       0.006\n",
       "page_uk        0.0033      0.003      1.180      0.238      -0.002       0.009\n",
       "==============================================================================\n",
       "Omnibus:                   125549.436   Durbin-Watson:                   2.000\n",
       "Prob(Omnibus):                  0.000   Jarque-Bera (JB):           414285.945\n",
       "Skew:                           2.345   Prob(JB):                         0.00\n",
       "Kurtosis:                       6.497   Cond. No.                         12.7\n",
       "==============================================================================\n",
       "\n",
       "Warnings:\n",
       "[1] Standard Errors assume that the covariance matrix of the errors is correctly specified.\n",
       "\"\"\""
      ]
     },
     "execution_count": 47,
     "metadata": {},
     "output_type": "execute_result"
    }
   ],
   "source": [
    "country_new_page = country_new_p.fit()\n",
    "country_new_page.summary()"
   ]
  },
  {
   "cell_type": "markdown",
   "metadata": {},
   "source": [
    "**The coefficients  CA, UK, AB_page, page_ca and page_uk were -0.0018, -0.0006, -0.0022, -0.0047 and 0.0033 respectively, were page_uk was the only one with a positive coeficient\n",
    "These coefficients represent the expected change in response for each 1 unit increase on the other variable.\n",
    "Rsquared variable - from this whe can conclude that the model doesnt fit, were we have 0% of the convertion variaty.\n",
    "The Pvalues suggests that CA, UK, AB_page, page_ca and page_uk are statistically insignificant to an individual convert a page/. Due to the fact that this results were diferent than zero.** \n"
   ]
  }
 ],
 "metadata": {
  "kernelspec": {
   "display_name": "Python 3",
   "language": "python",
   "name": "python3"
  },
  "language_info": {
   "codemirror_mode": {
    "name": "ipython",
    "version": 3
   },
   "file_extension": ".py",
   "mimetype": "text/x-python",
   "name": "python",
   "nbconvert_exporter": "python",
   "pygments_lexer": "ipython3",
   "version": "3.6.5"
  }
 },
 "nbformat": 4,
 "nbformat_minor": 2
}
